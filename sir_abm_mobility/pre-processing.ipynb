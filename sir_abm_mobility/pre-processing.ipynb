{
 "cells": [
  {
   "cell_type": "code",
   "execution_count": 4,
   "metadata": {},
   "outputs": [],
   "source": [
    "import numpy as np\n",
    "import matplotlib.pyplot as plt\n",
    "import pandas as pd\n",
    "import geopandas as gpd\n",
    "\n",
    "from pathlib import Path\n",
    "\n",
    "# plt.style.use('seaborn-v0_8-whitegrid')"
   ]
  },
  {
   "cell_type": "code",
   "execution_count": 62,
   "metadata": {},
   "outputs": [],
   "source": [
    "# https://censusreporter.org\n",
    "\n",
    "data_raw_path = Path().resolve().parent / \"data\"\n",
    "images_path = Path().resolve().parent / \"images\" / \"mobility_segregation\"\n",
    "images_path.mkdir(exist_ok=True)\n",
    "matrix_path = data_raw_path / \"matrix_20240306\"\n",
    "compmean_path = data_raw_path / \"compmean_20240306\"\n",
    "tract_tessellation_filepath = data_raw_path / \"tl_2019_53_tract.shp\"\n",
    "tract_centroids_filepath = data_raw_path / \"tract_indices_centroid.csv\"\n",
    "\n",
    "data_path = Path().resolve() / \"data\"  # Current folder"
   ]
  },
  {
   "cell_type": "code",
   "execution_count": 12,
   "metadata": {},
   "outputs": [],
   "source": [
    "drop_tract_list = [\n",
    "    53033032500,\n",
    "    53033032800,\n",
    "    53033032702,\n",
    "    53033031502,\n",
    "    53033990100  # no residents\n",
    "]"
   ]
  },
  {
   "cell_type": "code",
   "execution_count": 13,
   "metadata": {},
   "outputs": [
    {
     "data": {
      "text/html": [
       "<div>\n",
       "<style scoped>\n",
       "    .dataframe tbody tr th:only-of-type {\n",
       "        vertical-align: middle;\n",
       "    }\n",
       "\n",
       "    .dataframe tbody tr th {\n",
       "        vertical-align: top;\n",
       "    }\n",
       "\n",
       "    .dataframe thead th {\n",
       "        text-align: right;\n",
       "    }\n",
       "</style>\n",
       "<table border=\"1\" class=\"dataframe\">\n",
       "  <thead>\n",
       "    <tr style=\"text-align: right;\">\n",
       "      <th></th>\n",
       "      <th>tract</th>\n",
       "      <th>geometry</th>\n",
       "    </tr>\n",
       "  </thead>\n",
       "  <tbody>\n",
       "    <tr>\n",
       "      <th>96</th>\n",
       "      <td>53033025701</td>\n",
       "      <td>POLYGON ((-122.20643 47.46968, -122.20642 47.4...</td>\n",
       "    </tr>\n",
       "    <tr>\n",
       "      <th>97</th>\n",
       "      <td>53033025702</td>\n",
       "      <td>POLYGON ((-122.18587 47.46643, -122.1858 47.46...</td>\n",
       "    </tr>\n",
       "    <tr>\n",
       "      <th>98</th>\n",
       "      <td>53033025804</td>\n",
       "      <td>POLYGON ((-122.18595 47.457, -122.18593 47.458...</td>\n",
       "    </tr>\n",
       "    <tr>\n",
       "      <th>99</th>\n",
       "      <td>53033026001</td>\n",
       "      <td>POLYGON ((-122.24964 47.49934, -122.24951 47.4...</td>\n",
       "    </tr>\n",
       "    <tr>\n",
       "      <th>100</th>\n",
       "      <td>53033026100</td>\n",
       "      <td>POLYGON ((-122.27058 47.49558, -122.2703 47.49...</td>\n",
       "    </tr>\n",
       "  </tbody>\n",
       "</table>\n",
       "</div>"
      ],
      "text/plain": [
       "           tract                                           geometry\n",
       "96   53033025701  POLYGON ((-122.20643 47.46968, -122.20642 47.4...\n",
       "97   53033025702  POLYGON ((-122.18587 47.46643, -122.1858 47.46...\n",
       "98   53033025804  POLYGON ((-122.18595 47.457, -122.18593 47.458...\n",
       "99   53033026001  POLYGON ((-122.24964 47.49934, -122.24951 47.4...\n",
       "100  53033026100  POLYGON ((-122.27058 47.49558, -122.2703 47.49..."
      ]
     },
     "execution_count": 13,
     "metadata": {},
     "output_type": "execute_result"
    }
   ],
   "source": [
    "tract_tessellation = (\n",
    "    gpd.read_file(tract_tessellation_filepath)\n",
    "    .rename(columns={\"GEOID\": \"tract\"})\n",
    "    .astype({\"tract\": int})\n",
    "    .query(\"COUNTYFP == '033'\")\n",
    "    .query(\"tract not in @drop_tract_list\")\n",
    "    .loc[:, [\"tract\", \"geometry\"]]\n",
    ")\n",
    "tract_tessellation.head()"
   ]
  },
  {
   "cell_type": "code",
   "execution_count": 14,
   "metadata": {},
   "outputs": [
    {
     "data": {
      "text/html": [
       "<div>\n",
       "<style scoped>\n",
       "    .dataframe tbody tr th:only-of-type {\n",
       "        vertical-align: middle;\n",
       "    }\n",
       "\n",
       "    .dataframe tbody tr th {\n",
       "        vertical-align: top;\n",
       "    }\n",
       "\n",
       "    .dataframe thead th {\n",
       "        text-align: right;\n",
       "    }\n",
       "</style>\n",
       "<table border=\"1\" class=\"dataframe\">\n",
       "  <thead>\n",
       "    <tr style=\"text-align: right;\">\n",
       "      <th></th>\n",
       "      <th>id</th>\n",
       "      <th>tract</th>\n",
       "      <th>pop2010</th>\n",
       "      <th>centroid_pop_lat</th>\n",
       "      <th>centroid_pop_long</th>\n",
       "      <th>geometry</th>\n",
       "    </tr>\n",
       "  </thead>\n",
       "  <tbody>\n",
       "    <tr>\n",
       "      <th>92</th>\n",
       "      <td>93</td>\n",
       "      <td>53033000100</td>\n",
       "      <td>6255</td>\n",
       "      <td>47.726814</td>\n",
       "      <td>-122.291489</td>\n",
       "      <td>POINT (-122.29149 47.72681)</td>\n",
       "    </tr>\n",
       "    <tr>\n",
       "      <th>135</th>\n",
       "      <td>136</td>\n",
       "      <td>53033000200</td>\n",
       "      <td>7646</td>\n",
       "      <td>47.726185</td>\n",
       "      <td>-122.308673</td>\n",
       "      <td>POINT (-122.30867 47.72618)</td>\n",
       "    </tr>\n",
       "    <tr>\n",
       "      <th>188</th>\n",
       "      <td>189</td>\n",
       "      <td>53033000300</td>\n",
       "      <td>2603</td>\n",
       "      <td>47.730773</td>\n",
       "      <td>-122.335689</td>\n",
       "      <td>POINT (-122.33569 47.73077)</td>\n",
       "    </tr>\n",
       "    <tr>\n",
       "      <th>342</th>\n",
       "      <td>343</td>\n",
       "      <td>53033000401</td>\n",
       "      <td>5551</td>\n",
       "      <td>47.728397</td>\n",
       "      <td>-122.352217</td>\n",
       "      <td>POINT (-122.35222 47.7284)</td>\n",
       "    </tr>\n",
       "    <tr>\n",
       "      <th>41</th>\n",
       "      <td>42</td>\n",
       "      <td>53033000402</td>\n",
       "      <td>4841</td>\n",
       "      <td>47.717895</td>\n",
       "      <td>-122.354291</td>\n",
       "      <td>POINT (-122.35429 47.7179)</td>\n",
       "    </tr>\n",
       "  </tbody>\n",
       "</table>\n",
       "</div>"
      ],
      "text/plain": [
       "      id        tract  pop2010  centroid_pop_lat  centroid_pop_long  \\\n",
       "92    93  53033000100     6255         47.726814        -122.291489   \n",
       "135  136  53033000200     7646         47.726185        -122.308673   \n",
       "188  189  53033000300     2603         47.730773        -122.335689   \n",
       "342  343  53033000401     5551         47.728397        -122.352217   \n",
       "41    42  53033000402     4841         47.717895        -122.354291   \n",
       "\n",
       "                        geometry  \n",
       "92   POINT (-122.29149 47.72681)  \n",
       "135  POINT (-122.30867 47.72618)  \n",
       "188  POINT (-122.33569 47.73077)  \n",
       "342   POINT (-122.35222 47.7284)  \n",
       "41    POINT (-122.35429 47.7179)  "
      ]
     },
     "execution_count": 14,
     "metadata": {},
     "output_type": "execute_result"
    }
   ],
   "source": [
    "tract_centroids = (\n",
    "    pd.read_csv(tract_centroids_filepath)\n",
    "    .pipe(\n",
    "        lambda x: gpd.GeoDataFrame(\n",
    "            x,\n",
    "            geometry=gpd.points_from_xy(x[\"centroid_pop_long\"], x[\"centroid_pop_lat\"]),\n",
    "            crs=tract_tessellation.crs\n",
    "        ) # type: ignore\n",
    "    )\n",
    "    .loc[lambda x: x[\"tract\"].isin(tract_tessellation[\"tract\"])]\n",
    "    .sort_values(by=\"tract\")\n",
    ")\n",
    "tract_centroids.head()"
   ]
  },
  {
   "cell_type": "code",
   "execution_count": null,
   "metadata": {},
   "outputs": [
    {
     "data": {
      "text/html": [
       "<div>\n",
       "<style scoped>\n",
       "    .dataframe tbody tr th:only-of-type {\n",
       "        vertical-align: middle;\n",
       "    }\n",
       "\n",
       "    .dataframe tbody tr th {\n",
       "        vertical-align: top;\n",
       "    }\n",
       "\n",
       "    .dataframe thead th {\n",
       "        text-align: right;\n",
       "    }\n",
       "</style>\n",
       "<table border=\"1\" class=\"dataframe\">\n",
       "  <thead>\n",
       "    <tr style=\"text-align: right;\">\n",
       "      <th></th>\n",
       "      <th>tract</th>\n",
       "      <th>geometry</th>\n",
       "      <th>id</th>\n",
       "    </tr>\n",
       "  </thead>\n",
       "  <tbody>\n",
       "    <tr>\n",
       "      <th>96</th>\n",
       "      <td>53033025701</td>\n",
       "      <td>POLYGON ((-122.20643 47.46968, -122.20642 47.4...</td>\n",
       "      <td>67</td>\n",
       "    </tr>\n",
       "    <tr>\n",
       "      <th>97</th>\n",
       "      <td>53033025702</td>\n",
       "      <td>POLYGON ((-122.18587 47.46643, -122.1858 47.46...</td>\n",
       "      <td>130</td>\n",
       "    </tr>\n",
       "    <tr>\n",
       "      <th>98</th>\n",
       "      <td>53033025804</td>\n",
       "      <td>POLYGON ((-122.18595 47.457, -122.18593 47.458...</td>\n",
       "      <td>377</td>\n",
       "    </tr>\n",
       "    <tr>\n",
       "      <th>99</th>\n",
       "      <td>53033026001</td>\n",
       "      <td>POLYGON ((-122.24964 47.49934, -122.24951 47.4...</td>\n",
       "      <td>202</td>\n",
       "    </tr>\n",
       "    <tr>\n",
       "      <th>100</th>\n",
       "      <td>53033026100</td>\n",
       "      <td>POLYGON ((-122.27058 47.49558, -122.2703 47.49...</td>\n",
       "      <td>66</td>\n",
       "    </tr>\n",
       "  </tbody>\n",
       "</table>\n",
       "</div>"
      ],
      "text/plain": [
       "           tract                                           geometry   id\n",
       "96   53033025701  POLYGON ((-122.20643 47.46968, -122.20642 47.4...   67\n",
       "97   53033025702  POLYGON ((-122.18587 47.46643, -122.1858 47.46...  130\n",
       "98   53033025804  POLYGON ((-122.18595 47.457, -122.18593 47.458...  377\n",
       "99   53033026001  POLYGON ((-122.24964 47.49934, -122.24951 47.4...  202\n",
       "100  53033026100  POLYGON ((-122.27058 47.49558, -122.2703 47.49...   66"
      ]
     },
     "execution_count": 18,
     "metadata": {},
     "output_type": "execute_result"
    }
   ],
   "source": [
    "id_tract_dict = tract_centroids.set_index(\"id\")[\"tract\"].to_dict()\n",
    "drop_id_list = {k: v for k, v in id_tract_dict.items() if k not in drop_tract_list}\n",
    "tract_id_dict = {v: k for k, v in id_tract_dict.items()}\n",
    "\n",
    "tract_tessellation = tract_tessellation.assign(id=lambda x: x[\"tract\"].map(tract_id_dict))\n",
    "tract_tessellation.head()"
   ]
  },
  {
   "cell_type": "code",
   "execution_count": 19,
   "metadata": {},
   "outputs": [],
   "source": [
    "n_tracts = tract_tessellation.shape[0]\n",
    "id_list = tract_tessellation[\"id\"].unique()\n",
    "tract_list = tract_tessellation[\"tract\"].unique()"
   ]
  },
  {
   "cell_type": "markdown",
   "metadata": {},
   "source": [
    "## Total devices\n",
    "\n",
    "devices.csv: Total number of devices in each census block group in the census tract added together across all days in the one-week period starting with the date in the filename."
   ]
  },
  {
   "cell_type": "code",
   "execution_count": 20,
   "metadata": {},
   "outputs": [],
   "source": [
    "devices_dict = {}\n",
    "for f in matrix_path.glob(\"*devices.csv\"):\n",
    "    month_day, year= f.stem.removesuffix(\"devices\").split(\"_\")\n",
    "    month, day = month_day.split(\"-\")\n",
    "    day = day if len(day) == 2 else \"0\" + day\n",
    "    file_date = \"-\".join([year, month, day])\n",
    "    devices_dict[file_date] = pd.read_csv(\n",
    "        f,\n",
    "        index_col=0,\n",
    "        names=[\"id\", \"n_devices\"],\n",
    "        header=0\n",
    "    )"
   ]
  },
  {
   "cell_type": "code",
   "execution_count": 21,
   "metadata": {},
   "outputs": [
    {
     "data": {
      "application/vnd.microsoft.datawrangler.viewer.v0+json": {
       "columns": [
        {
         "name": "index",
         "rawType": "int64",
         "type": "integer"
        },
        {
         "name": "date",
         "rawType": "datetime64[ns]",
         "type": "datetime"
        },
        {
         "name": "id",
         "rawType": "int64",
         "type": "integer"
        },
        {
         "name": "n_devices",
         "rawType": "int64",
         "type": "integer"
        },
        {
         "name": "tract",
         "rawType": "int64",
         "type": "integer"
        }
       ],
       "conversionMethod": "pd.DataFrame",
       "ref": "f1386411-281b-45a2-a724-d3b99fbb47d8",
       "rows": [
        [
         "490",
         "2019-01-07 00:00:00",
         "93",
         "2997",
         "53033000100"
        ],
        [
         "533",
         "2019-01-07 00:00:00",
         "136",
         "2789",
         "53033000200"
        ],
        [
         "586",
         "2019-01-07 00:00:00",
         "189",
         "882",
         "53033000300"
        ],
        [
         "740",
         "2019-01-07 00:00:00",
         "343",
         "2390",
         "53033000401"
        ],
        [
         "439",
         "2019-01-07 00:00:00",
         "42",
         "1551",
         "53033000402"
        ]
       ],
       "shape": {
        "columns": 4,
        "rows": 5
       }
      },
      "text/html": [
       "<div>\n",
       "<style scoped>\n",
       "    .dataframe tbody tr th:only-of-type {\n",
       "        vertical-align: middle;\n",
       "    }\n",
       "\n",
       "    .dataframe tbody tr th {\n",
       "        vertical-align: top;\n",
       "    }\n",
       "\n",
       "    .dataframe thead th {\n",
       "        text-align: right;\n",
       "    }\n",
       "</style>\n",
       "<table border=\"1\" class=\"dataframe\">\n",
       "  <thead>\n",
       "    <tr style=\"text-align: right;\">\n",
       "      <th></th>\n",
       "      <th>date</th>\n",
       "      <th>id</th>\n",
       "      <th>n_devices</th>\n",
       "      <th>tract</th>\n",
       "    </tr>\n",
       "  </thead>\n",
       "  <tbody>\n",
       "    <tr>\n",
       "      <th>490</th>\n",
       "      <td>2019-01-07</td>\n",
       "      <td>93</td>\n",
       "      <td>2997</td>\n",
       "      <td>53033000100</td>\n",
       "    </tr>\n",
       "    <tr>\n",
       "      <th>533</th>\n",
       "      <td>2019-01-07</td>\n",
       "      <td>136</td>\n",
       "      <td>2789</td>\n",
       "      <td>53033000200</td>\n",
       "    </tr>\n",
       "    <tr>\n",
       "      <th>586</th>\n",
       "      <td>2019-01-07</td>\n",
       "      <td>189</td>\n",
       "      <td>882</td>\n",
       "      <td>53033000300</td>\n",
       "    </tr>\n",
       "    <tr>\n",
       "      <th>740</th>\n",
       "      <td>2019-01-07</td>\n",
       "      <td>343</td>\n",
       "      <td>2390</td>\n",
       "      <td>53033000401</td>\n",
       "    </tr>\n",
       "    <tr>\n",
       "      <th>439</th>\n",
       "      <td>2019-01-07</td>\n",
       "      <td>42</td>\n",
       "      <td>1551</td>\n",
       "      <td>53033000402</td>\n",
       "    </tr>\n",
       "  </tbody>\n",
       "</table>\n",
       "</div>"
      ],
      "text/plain": [
       "          date   id  n_devices        tract\n",
       "490 2019-01-07   93       2997  53033000100\n",
       "533 2019-01-07  136       2789  53033000200\n",
       "586 2019-01-07  189        882  53033000300\n",
       "740 2019-01-07  343       2390  53033000401\n",
       "439 2019-01-07   42       1551  53033000402"
      ]
     },
     "execution_count": 21,
     "metadata": {},
     "output_type": "execute_result"
    }
   ],
   "source": [
    "devices_total = (\n",
    "    pd.concat(devices_dict, names=[\"date\"])\n",
    "    .reset_index()\n",
    "    .query(\"id in @drop_id_list\")\n",
    "    .assign(\n",
    "        date=lambda x: pd.to_datetime(x[\"date\"]),\n",
    "        tract=lambda x: x[\"id\"].map(id_tract_dict)\n",
    "    )\n",
    "    .sort_values([\"date\", \"tract\"])\n",
    ")\n",
    "devices_total.head()"
   ]
  },
  {
   "cell_type": "code",
   "execution_count": 22,
   "metadata": {},
   "outputs": [
    {
     "data": {
      "text/plain": [
       "103"
      ]
     },
     "execution_count": 22,
     "metadata": {},
     "output_type": "execute_result"
    }
   ],
   "source": [
    "devices_total_dates = devices_total[\"date\"].sort_values().unique()\n",
    "devices_total_dates.size"
   ]
  },
  {
   "cell_type": "code",
   "execution_count": 23,
   "metadata": {},
   "outputs": [],
   "source": [
    "unique_days = devices_total[\"date\"].drop_duplicates().sort_values().to_numpy()\n",
    "days_diff = devices_total[\"date\"].drop_duplicates().sort_values().diff().dt.days.to_numpy()"
   ]
  },
  {
   "cell_type": "markdown",
   "metadata": {},
   "source": [
    "## Matrix devices\n",
    "\n",
    "The \"matrix\" files depicts a census tract visit matrix summed across all census block groups in the census tract in the 1-week period. So, to rescale to get visits per device, one could divide each row by the devices number in the devices file. \n",
    "\n",
    "* Update: The \"matrix\" files didn't change much, except to get the correct week structure for end of 2019 through 2020."
   ]
  },
  {
   "cell_type": "code",
   "execution_count": 24,
   "metadata": {},
   "outputs": [],
   "source": [
    "devices_flow_dict = {}\n",
    "for f in matrix_path.glob(\"*matrix.csv\"):\n",
    "    month_day, year= f.stem.removesuffix(\"matrix\").split(\"_\")\n",
    "    month, day = month_day.split(\"-\")\n",
    "    day = day if len(day) == 2 else \"0\" + day\n",
    "    file_date = \"-\".join([year, month, day])\n",
    "    matrix_df = (\n",
    "        pd.read_csv(f, index_col=0)\n",
    "        .rename_axis(\"origin\")\n",
    "        .rename(columns=lambda x: int(x.lower().removeprefix(\"v\")))\n",
    "        .reset_index()\n",
    "        .melt(id_vars=\"origin\", var_name=\"destination\", value_name=\"flow\")\n",
    "    )\n",
    "    devices_flow_dict[file_date] = matrix_df"
   ]
  },
  {
   "cell_type": "code",
   "execution_count": 25,
   "metadata": {},
   "outputs": [
    {
     "data": {
      "application/vnd.microsoft.datawrangler.viewer.v0+json": {
       "columns": [
        {
         "name": "index",
         "rawType": "int64",
         "type": "integer"
        },
        {
         "name": "date",
         "rawType": "datetime64[ns]",
         "type": "datetime"
        },
        {
         "name": "origin",
         "rawType": "int64",
         "type": "integer"
        },
        {
         "name": "destination",
         "rawType": "int64",
         "type": "integer"
        },
        {
         "name": "flow",
         "rawType": "int64",
         "type": "integer"
        },
        {
         "name": "id",
         "rawType": "int64",
         "type": "integer"
        },
        {
         "name": "n_devices",
         "rawType": "int64",
         "type": "integer"
        },
        {
         "name": "flow_ratio",
         "rawType": "float64",
         "type": "float"
        }
       ],
       "conversionMethod": "pd.DataFrame",
       "ref": "36d42632-5487-4b62-bd05-e491f71e53f6",
       "rows": [
        [
         "0",
         "2019-01-07 00:00:00",
         "53033000100",
         "53033000100",
         "2821",
         "93",
         "2997",
         "0.9412746079412746"
        ],
        [
         "1",
         "2019-01-07 00:00:00",
         "53033000100",
         "53033000200",
         "105",
         "93",
         "2997",
         "0.035035035035035036"
        ],
        [
         "2",
         "2019-01-07 00:00:00",
         "53033000100",
         "53033000300",
         "13",
         "93",
         "2997",
         "0.004337671004337671"
        ]
       ],
       "shape": {
        "columns": 7,
        "rows": 3
       }
      },
      "text/html": [
       "<div>\n",
       "<style scoped>\n",
       "    .dataframe tbody tr th:only-of-type {\n",
       "        vertical-align: middle;\n",
       "    }\n",
       "\n",
       "    .dataframe tbody tr th {\n",
       "        vertical-align: top;\n",
       "    }\n",
       "\n",
       "    .dataframe thead th {\n",
       "        text-align: right;\n",
       "    }\n",
       "</style>\n",
       "<table border=\"1\" class=\"dataframe\">\n",
       "  <thead>\n",
       "    <tr style=\"text-align: right;\">\n",
       "      <th></th>\n",
       "      <th>date</th>\n",
       "      <th>origin</th>\n",
       "      <th>destination</th>\n",
       "      <th>flow</th>\n",
       "      <th>id</th>\n",
       "      <th>n_devices</th>\n",
       "      <th>flow_ratio</th>\n",
       "    </tr>\n",
       "  </thead>\n",
       "  <tbody>\n",
       "    <tr>\n",
       "      <th>0</th>\n",
       "      <td>2019-01-07</td>\n",
       "      <td>53033000100</td>\n",
       "      <td>53033000100</td>\n",
       "      <td>2821</td>\n",
       "      <td>93</td>\n",
       "      <td>2997</td>\n",
       "      <td>0.941275</td>\n",
       "    </tr>\n",
       "    <tr>\n",
       "      <th>1</th>\n",
       "      <td>2019-01-07</td>\n",
       "      <td>53033000100</td>\n",
       "      <td>53033000200</td>\n",
       "      <td>105</td>\n",
       "      <td>93</td>\n",
       "      <td>2997</td>\n",
       "      <td>0.035035</td>\n",
       "    </tr>\n",
       "    <tr>\n",
       "      <th>2</th>\n",
       "      <td>2019-01-07</td>\n",
       "      <td>53033000100</td>\n",
       "      <td>53033000300</td>\n",
       "      <td>13</td>\n",
       "      <td>93</td>\n",
       "      <td>2997</td>\n",
       "      <td>0.004338</td>\n",
       "    </tr>\n",
       "  </tbody>\n",
       "</table>\n",
       "</div>"
      ],
      "text/plain": [
       "        date       origin  destination  flow  id  n_devices  flow_ratio\n",
       "0 2019-01-07  53033000100  53033000100  2821  93       2997    0.941275\n",
       "1 2019-01-07  53033000100  53033000200   105  93       2997    0.035035\n",
       "2 2019-01-07  53033000100  53033000300    13  93       2997    0.004338"
      ]
     },
     "execution_count": 25,
     "metadata": {},
     "output_type": "execute_result"
    }
   ],
   "source": [
    "devices_flow = (\n",
    "    pd.concat(devices_flow_dict, names=[\"date\"])\n",
    "    .droplevel(level=1)\n",
    "    .reset_index()\n",
    "    .astype({\"origin\": int, \"destination\": int})\n",
    "    .query(\"origin in @id_list and destination in @id_list\")\n",
    "    .assign(\n",
    "        date=lambda x: pd.to_datetime(x[\"date\"]),\n",
    "        origin=lambda x: x[\"origin\"].map(id_tract_dict),\n",
    "        destination=lambda x: x[\"destination\"].map(id_tract_dict)\n",
    "    )\n",
    "    .sort_values([\"date\", \"origin\", \"destination\"])\n",
    "    .merge(\n",
    "        devices_total,\n",
    "        how=\"inner\",\n",
    "        left_on=[\"date\", \"origin\"],\n",
    "        right_on=[\"date\", \"tract\"]\n",
    "    )\n",
    "    .drop(columns=\"tract\")\n",
    "    .assign(\n",
    "        flow_ratio=lambda x: x[\"flow\"] / x[\"n_devices\"]  # PROPORTION OF DEVICES!\n",
    "    )\n",
    ")\n",
    "devices_flow.head(3)"
   ]
  },
  {
   "cell_type": "code",
   "execution_count": 27,
   "metadata": {},
   "outputs": [],
   "source": [
    "# devices_flow.drop_duplicates([\"date\", \"origin\"]).shape[0] == 103 * n_tracts"
   ]
  },
  {
   "cell_type": "code",
   "execution_count": 33,
   "metadata": {},
   "outputs": [],
   "source": [
    "devices_flow_dates = devices_flow[\"date\"].unique()"
   ]
  },
  {
   "cell_type": "code",
   "execution_count": null,
   "metadata": {},
   "outputs": [
    {
     "data": {
      "application/vnd.microsoft.datawrangler.viewer.v0+json": {
       "columns": [
        {
         "name": "index",
         "rawType": "int64",
         "type": "integer"
        },
        {
         "name": "date",
         "rawType": "datetime64[ns]",
         "type": "datetime"
        },
        {
         "name": "origin",
         "rawType": "int64",
         "type": "integer"
        },
        {
         "name": "destination",
         "rawType": "int64",
         "type": "integer"
        },
        {
         "name": "flow",
         "rawType": "int64",
         "type": "integer"
        },
        {
         "name": "id",
         "rawType": "int64",
         "type": "integer"
        },
        {
         "name": "n_devices",
         "rawType": "int64",
         "type": "integer"
        },
        {
         "name": "flow_ratio",
         "rawType": "float64",
         "type": "float"
        }
       ],
       "conversionMethod": "pd.DataFrame",
       "ref": "ea8418f1-fab7-427e-9f9d-c68a04fe652a",
       "rows": [
        [
         "8670027",
         "2020-02-03 00:00:00",
         "53033005301",
         "53033005302",
         "1261",
         "3",
         "1133",
         "1.1129744042365401"
        ],
        [
         "8824476",
         "2020-02-10 00:00:00",
         "53033005301",
         "53033005302",
         "1183",
         "3",
         "1052",
         "1.1245247148288973"
        ],
        [
         "8978925",
         "2020-02-17 00:00:00",
         "53033005301",
         "53033005302",
         "1096",
         "3",
         "1000",
         "1.096"
        ],
        [
         "9133374",
         "2020-02-24 00:00:00",
         "53033005301",
         "53033005302",
         "1157",
         "3",
         "1060",
         "1.0915094339622642"
        ],
        [
         "9417042",
         "2020-03-02 00:00:00",
         "53033032324",
         "53033032309",
         "1413",
         "225",
         "859",
         "1.6449359720605354"
        ],
        [
         "9571491",
         "2020-03-09 00:00:00",
         "53033032324",
         "53033032309",
         "879",
         "225",
         "773",
         "1.1371280724450195"
        ],
        [
         "9931789",
         "2020-03-30 00:00:00",
         "53033011101",
         "53033029504",
         "1683",
         "372",
         "1369",
         "1.22936449963477"
        ],
        [
         "11224380",
         "2020-05-25 00:00:00",
         "53033028902",
         "53033030202",
         "1975",
         "13",
         "1110",
         "1.7792792792792793"
        ],
        [
         "11378822",
         "2020-06-01 00:00:00",
         "53033028902",
         "53033029902",
         "1821",
         "13",
         "1137",
         "1.6015831134564644"
        ],
        [
         "11547411",
         "2020-06-08 00:00:00",
         "53033030202",
         "53033029503",
         "846",
         "311",
         "734",
         "1.1525885558583107"
        ],
        [
         "12313765",
         "2020-07-13 00:00:00",
         "53033029503",
         "53033029700",
         "1499",
         "181",
         "960",
         "1.5614583333333334"
        ],
        [
         "12628501",
         "2020-07-27 00:00:00",
         "53033030202",
         "53033026100",
         "6025",
         "311",
         "731",
         "8.242134062927496"
        ],
        [
         "12628533",
         "2020-07-27 00:00:00",
         "53033030202",
         "53033028902",
         "1014",
         "311",
         "731",
         "1.387140902872777"
        ],
        [
         "12782950",
         "2020-08-03 00:00:00",
         "53033030202",
         "53033026100",
         "869",
         "311",
         "738",
         "1.1775067750677506"
        ],
        [
         "13064013",
         "2020-08-17 00:00:00",
         "53033025806",
         "53033030202",
         "1061",
         "309",
         "616",
         "1.7224025974025974"
        ],
        [
         "13091848",
         "2020-08-17 00:00:00",
         "53033030202",
         "53033026100",
         "972",
         "311",
         "687",
         "1.4148471615720524"
        ],
        [
         "13091880",
         "2020-08-17 00:00:00",
         "53033030202",
         "53033028902",
         "761",
         "311",
         "687",
         "1.1077147016011646"
        ],
        [
         "13091913",
         "2020-08-17 00:00:00",
         "53033030202",
         "53033030006",
         "707",
         "311",
         "687",
         "1.0291120815138282"
        ],
        [
         "13246146",
         "2020-08-24 00:00:00",
         "53033030202",
         "53033007900",
         "920",
         "311",
         "683",
         "1.3469985358711567"
        ],
        [
         "13246351",
         "2020-08-24 00:00:00",
         "53033030202",
         "53033029504",
         "3874",
         "311",
         "683",
         "5.67203513909224"
        ],
        [
         "13400800",
         "2020-08-31 00:00:00",
         "53033030202",
         "53033029504",
         "1291",
         "311",
         "750",
         "1.7213333333333334"
        ],
        [
         "13555205",
         "2020-09-07 00:00:00",
         "53033030202",
         "53033027100",
         "1070",
         "311",
         "821",
         "1.3032886723507917"
        ],
        [
         "13555256",
         "2020-09-07 00:00:00",
         "53033030202",
         "53033029902",
         "3905",
         "311",
         "821",
         "4.756394640682095"
        ],
        [
         "13709510",
         "2020-09-14 00:00:00",
         "53033030202",
         "53033009500",
         "5782",
         "311",
         "851",
         "6.794359576968272"
        ],
        [
         "13709668",
         "2020-09-14 00:00:00",
         "53033030202",
         "53033028402",
         "946",
         "311",
         "851",
         "1.1116333725029377"
        ],
        [
         "13709705",
         "2020-09-14 00:00:00",
         "53033030202",
         "53033029902",
         "1252",
         "311",
         "851",
         "1.4712103407755581"
        ],
        [
         "14018599",
         "2020-09-28 00:00:00",
         "53033030202",
         "53033029700",
         "1137",
         "311",
         "837",
         "1.3584229390681004"
        ],
        [
         "14018617",
         "2020-09-28 00:00:00",
         "53033030202",
         "53033030311",
         "6905",
         "311",
         "837",
         "8.249701314217443"
        ],
        [
         "14173066",
         "2020-10-05 00:00:00",
         "53033030202",
         "53033030311",
         "2171",
         "311",
         "894",
         "2.4284116331096195"
        ],
        [
         "14327292",
         "2020-10-12 00:00:00",
         "53033030202",
         "53033008100",
         "937",
         "311",
         "910",
         "1.0296703296703296"
        ],
        [
         "14327450",
         "2020-10-12 00:00:00",
         "53033030202",
         "53033027100",
         "4420",
         "311",
         "910",
         "4.857142857142857"
        ],
        [
         "14327472",
         "2020-10-12 00:00:00",
         "53033030202",
         "53033028902",
         "1318",
         "311",
         "910",
         "1.4483516483516483"
        ],
        [
         "14481889",
         "2020-10-19 00:00:00",
         "53033030202",
         "53033026100",
         "1327",
         "311",
         "926",
         "1.4330453563714902"
        ],
        [
         "14481899",
         "2020-10-19 00:00:00",
         "53033030202",
         "53033027100",
         "1334",
         "311",
         "926",
         "1.4406047516198703"
        ],
        [
         "14481913",
         "2020-10-19 00:00:00",
         "53033030202",
         "53033028402",
         "932",
         "311",
         "926",
         "1.0064794816414686"
        ],
        [
         "14481921",
         "2020-10-19 00:00:00",
         "53033030202",
         "53033028902",
         "970",
         "311",
         "926",
         "1.0475161987041037"
        ],
        [
         "14551460",
         "2020-10-26 00:00:00",
         "53033008100",
         "53033027100",
         "3243",
         "338",
         "1592",
         "2.0370603015075375"
        ],
        [
         "14636225",
         "2020-10-26 00:00:00",
         "53033030202",
         "53033011101",
         "1799",
         "311",
         "924",
         "1.946969696969697"
        ],
        [
         "14636451",
         "2020-10-26 00:00:00",
         "53033030202",
         "53033031907",
         "1345",
         "311",
         "924",
         "1.4556277056277056"
        ],
        [
         "14705752",
         "2020-11-02 00:00:00",
         "53033008100",
         "53033008200",
         "5859",
         "338",
         "2310",
         "2.536363636363636"
        ],
        [
         "14790640",
         "2020-11-02 00:00:00",
         "53033030202",
         "53033008200",
         "2606",
         "311",
         "922",
         "2.82646420824295"
        ],
        [
         "14790819",
         "2020-11-02 00:00:00",
         "53033030202",
         "53033028902",
         "1977",
         "311",
         "922",
         "2.144251626898048"
        ],
        [
         "14790824",
         "2020-11-02 00:00:00",
         "53033030202",
         "53033029102",
         "9143",
         "311",
         "922",
         "9.91648590021692"
        ],
        [
         "14790862",
         "2020-11-02 00:00:00",
         "53033030202",
         "53033030311",
         "1725",
         "311",
         "922",
         "1.8709327548806942"
        ],
        [
         "14945268",
         "2020-11-09 00:00:00",
         "53033030202",
         "53033028902",
         "10627",
         "311",
         "875",
         "12.145142857142858"
        ],
        [
         "14945273",
         "2020-11-09 00:00:00",
         "53033030202",
         "53033029102",
         "2112",
         "311",
         "875",
         "2.4137142857142857"
        ],
        [
         "14945290",
         "2020-11-09 00:00:00",
         "53033030202",
         "53033029504",
         "1110",
         "311",
         "875",
         "1.2685714285714285"
        ],
        [
         "14945311",
         "2020-11-09 00:00:00",
         "53033030202",
         "53033030311",
         "914",
         "311",
         "875",
         "1.0445714285714285"
        ],
        [
         "15099548",
         "2020-11-16 00:00:00",
         "53033030202",
         "53033009200",
         "1090",
         "311",
         "832",
         "1.3100961538461537"
        ],
        [
         "15099717",
         "2020-11-16 00:00:00",
         "53033030202",
         "53033028902",
         "5708",
         "311",
         "832",
         "6.860576923076923"
        ]
       ],
       "shape": {
        "columns": 7,
        "rows": 77
       }
      },
      "text/html": [
       "<div>\n",
       "<style scoped>\n",
       "    .dataframe tbody tr th:only-of-type {\n",
       "        vertical-align: middle;\n",
       "    }\n",
       "\n",
       "    .dataframe tbody tr th {\n",
       "        vertical-align: top;\n",
       "    }\n",
       "\n",
       "    .dataframe thead th {\n",
       "        text-align: right;\n",
       "    }\n",
       "</style>\n",
       "<table border=\"1\" class=\"dataframe\">\n",
       "  <thead>\n",
       "    <tr style=\"text-align: right;\">\n",
       "      <th></th>\n",
       "      <th>date</th>\n",
       "      <th>origin</th>\n",
       "      <th>destination</th>\n",
       "      <th>flow</th>\n",
       "      <th>id</th>\n",
       "      <th>n_devices</th>\n",
       "      <th>flow_ratio</th>\n",
       "    </tr>\n",
       "  </thead>\n",
       "  <tbody>\n",
       "    <tr>\n",
       "      <th>8670027</th>\n",
       "      <td>2020-02-03</td>\n",
       "      <td>53033005301</td>\n",
       "      <td>53033005302</td>\n",
       "      <td>1261</td>\n",
       "      <td>3</td>\n",
       "      <td>1133</td>\n",
       "      <td>1.112974</td>\n",
       "    </tr>\n",
       "    <tr>\n",
       "      <th>8824476</th>\n",
       "      <td>2020-02-10</td>\n",
       "      <td>53033005301</td>\n",
       "      <td>53033005302</td>\n",
       "      <td>1183</td>\n",
       "      <td>3</td>\n",
       "      <td>1052</td>\n",
       "      <td>1.124525</td>\n",
       "    </tr>\n",
       "    <tr>\n",
       "      <th>8978925</th>\n",
       "      <td>2020-02-17</td>\n",
       "      <td>53033005301</td>\n",
       "      <td>53033005302</td>\n",
       "      <td>1096</td>\n",
       "      <td>3</td>\n",
       "      <td>1000</td>\n",
       "      <td>1.096000</td>\n",
       "    </tr>\n",
       "    <tr>\n",
       "      <th>9133374</th>\n",
       "      <td>2020-02-24</td>\n",
       "      <td>53033005301</td>\n",
       "      <td>53033005302</td>\n",
       "      <td>1157</td>\n",
       "      <td>3</td>\n",
       "      <td>1060</td>\n",
       "      <td>1.091509</td>\n",
       "    </tr>\n",
       "    <tr>\n",
       "      <th>9417042</th>\n",
       "      <td>2020-03-02</td>\n",
       "      <td>53033032324</td>\n",
       "      <td>53033032309</td>\n",
       "      <td>1413</td>\n",
       "      <td>225</td>\n",
       "      <td>859</td>\n",
       "      <td>1.644936</td>\n",
       "    </tr>\n",
       "    <tr>\n",
       "      <th>...</th>\n",
       "      <td>...</td>\n",
       "      <td>...</td>\n",
       "      <td>...</td>\n",
       "      <td>...</td>\n",
       "      <td>...</td>\n",
       "      <td>...</td>\n",
       "      <td>...</td>\n",
       "    </tr>\n",
       "    <tr>\n",
       "      <th>15866496</th>\n",
       "      <td>2020-12-21</td>\n",
       "      <td>53033029504</td>\n",
       "      <td>53033030202</td>\n",
       "      <td>2006</td>\n",
       "      <td>283</td>\n",
       "      <td>1266</td>\n",
       "      <td>1.584518</td>\n",
       "    </tr>\n",
       "    <tr>\n",
       "      <th>15871930</th>\n",
       "      <td>2020-12-21</td>\n",
       "      <td>53033030202</td>\n",
       "      <td>53033026100</td>\n",
       "      <td>1048</td>\n",
       "      <td>311</td>\n",
       "      <td>828</td>\n",
       "      <td>1.265700</td>\n",
       "    </tr>\n",
       "    <tr>\n",
       "      <th>15871953</th>\n",
       "      <td>2020-12-21</td>\n",
       "      <td>53033030202</td>\n",
       "      <td>53033028300</td>\n",
       "      <td>1211</td>\n",
       "      <td>311</td>\n",
       "      <td>828</td>\n",
       "      <td>1.462560</td>\n",
       "    </tr>\n",
       "    <tr>\n",
       "      <th>15871962</th>\n",
       "      <td>2020-12-21</td>\n",
       "      <td>53033030202</td>\n",
       "      <td>53033028902</td>\n",
       "      <td>1637</td>\n",
       "      <td>311</td>\n",
       "      <td>828</td>\n",
       "      <td>1.977053</td>\n",
       "    </tr>\n",
       "    <tr>\n",
       "      <th>15872005</th>\n",
       "      <td>2020-12-21</td>\n",
       "      <td>53033030202</td>\n",
       "      <td>53033030311</td>\n",
       "      <td>874</td>\n",
       "      <td>311</td>\n",
       "      <td>828</td>\n",
       "      <td>1.055556</td>\n",
       "    </tr>\n",
       "  </tbody>\n",
       "</table>\n",
       "<p>77 rows × 7 columns</p>\n",
       "</div>"
      ],
      "text/plain": [
       "               date       origin  destination  flow   id  n_devices  \\\n",
       "8670027  2020-02-03  53033005301  53033005302  1261    3       1133   \n",
       "8824476  2020-02-10  53033005301  53033005302  1183    3       1052   \n",
       "8978925  2020-02-17  53033005301  53033005302  1096    3       1000   \n",
       "9133374  2020-02-24  53033005301  53033005302  1157    3       1060   \n",
       "9417042  2020-03-02  53033032324  53033032309  1413  225        859   \n",
       "...             ...          ...          ...   ...  ...        ...   \n",
       "15866496 2020-12-21  53033029504  53033030202  2006  283       1266   \n",
       "15871930 2020-12-21  53033030202  53033026100  1048  311        828   \n",
       "15871953 2020-12-21  53033030202  53033028300  1211  311        828   \n",
       "15871962 2020-12-21  53033030202  53033028902  1637  311        828   \n",
       "15872005 2020-12-21  53033030202  53033030311   874  311        828   \n",
       "\n",
       "          flow_ratio  \n",
       "8670027     1.112974  \n",
       "8824476     1.124525  \n",
       "8978925     1.096000  \n",
       "9133374     1.091509  \n",
       "9417042     1.644936  \n",
       "...              ...  \n",
       "15866496    1.584518  \n",
       "15871930    1.265700  \n",
       "15871953    1.462560  \n",
       "15871962    1.977053  \n",
       "15872005    1.055556  \n",
       "\n",
       "[77 rows x 7 columns]"
      ]
     },
     "execution_count": 32,
     "metadata": {},
     "output_type": "execute_result"
    }
   ],
   "source": [
    "devices_flow.query(\"flow_ratio > 1 and origin != destination\")"
   ]
  },
  {
   "cell_type": "markdown",
   "metadata": {},
   "source": [
    "## Comp\n",
    "\n",
    "The \"comp\" files contain the tract's number of devices completely at home in a day summed across the week. To get proportion completely at home, divide a tract's week's comp value by its \"devices\" value.\n",
    "\n",
    "These two values (proportion completely at home AND median proportion of time at home) can serve as our measures of isolation and social distancing/avoidance, respectively.\n",
    "\n",
    "~~Number of devices spending the entire day at home summed across all census block groups in the census tract for each day in the week. So, to estimate the percentage of devices spending all day at home that week, one can divide by the devices number from the devices file.~~"
   ]
  },
  {
   "cell_type": "code",
   "execution_count": 28,
   "metadata": {},
   "outputs": [],
   "source": [
    "comp_dict = {}\n",
    "for f in compmean_path.glob(\"*comp.csv\"):\n",
    "    month_day, year= f.stem.removesuffix(\"comp\").split(\"_\")\n",
    "    month, day = month_day.split(\"-\")\n",
    "    day = day if len(day) == 2 else \"0\" + day\n",
    "    file_date = \"-\".join([year, month, day])\n",
    "    comp_dict[file_date] = pd.read_csv(\n",
    "        f,\n",
    "        index_col=0,\n",
    "        names=[\"id\", \"n_devices_home\"],\n",
    "        header=0\n",
    "    )"
   ]
  },
  {
   "cell_type": "code",
   "execution_count": 29,
   "metadata": {},
   "outputs": [
    {
     "data": {
      "application/vnd.microsoft.datawrangler.viewer.v0+json": {
       "columns": [
        {
         "name": "index",
         "rawType": "int64",
         "type": "integer"
        },
        {
         "name": "date",
         "rawType": "datetime64[ns]",
         "type": "datetime"
        },
        {
         "name": "id",
         "rawType": "int64",
         "type": "integer"
        },
        {
         "name": "n_devices_home",
         "rawType": "int64",
         "type": "integer"
        },
        {
         "name": "n_devices",
         "rawType": "int64",
         "type": "integer"
        },
        {
         "name": "tract",
         "rawType": "int64",
         "type": "integer"
        },
        {
         "name": "ratio_devices_home",
         "rawType": "float64",
         "type": "float"
        }
       ],
       "conversionMethod": "pd.DataFrame",
       "ref": "8f879125-b5a3-4e76-90ad-2ff1bf964ee8",
       "rows": [
        [
         "485",
         "2019-01-07 00:00:00",
         "93",
         "1167",
         "2997",
         "53033000100",
         "0.3893893893893894"
        ],
        [
         "526",
         "2019-01-07 00:00:00",
         "136",
         "1134",
         "2789",
         "53033000200",
         "0.40659734671925424"
        ],
        [
         "579",
         "2019-01-07 00:00:00",
         "189",
         "357",
         "882",
         "53033000300",
         "0.40476190476190477"
        ],
        [
         "731",
         "2019-01-07 00:00:00",
         "343",
         "946",
         "2390",
         "53033000401",
         "0.39581589958158997"
        ],
        [
         "434",
         "2019-01-07 00:00:00",
         "42",
         "603",
         "1551",
         "53033000402",
         "0.38878143133462284"
        ]
       ],
       "shape": {
        "columns": 6,
        "rows": 5
       }
      },
      "text/html": [
       "<div>\n",
       "<style scoped>\n",
       "    .dataframe tbody tr th:only-of-type {\n",
       "        vertical-align: middle;\n",
       "    }\n",
       "\n",
       "    .dataframe tbody tr th {\n",
       "        vertical-align: top;\n",
       "    }\n",
       "\n",
       "    .dataframe thead th {\n",
       "        text-align: right;\n",
       "    }\n",
       "</style>\n",
       "<table border=\"1\" class=\"dataframe\">\n",
       "  <thead>\n",
       "    <tr style=\"text-align: right;\">\n",
       "      <th></th>\n",
       "      <th>date</th>\n",
       "      <th>id</th>\n",
       "      <th>n_devices_home</th>\n",
       "      <th>n_devices</th>\n",
       "      <th>tract</th>\n",
       "      <th>ratio_devices_home</th>\n",
       "    </tr>\n",
       "  </thead>\n",
       "  <tbody>\n",
       "    <tr>\n",
       "      <th>485</th>\n",
       "      <td>2019-01-07</td>\n",
       "      <td>93</td>\n",
       "      <td>1167</td>\n",
       "      <td>2997</td>\n",
       "      <td>53033000100</td>\n",
       "      <td>0.389389</td>\n",
       "    </tr>\n",
       "    <tr>\n",
       "      <th>526</th>\n",
       "      <td>2019-01-07</td>\n",
       "      <td>136</td>\n",
       "      <td>1134</td>\n",
       "      <td>2789</td>\n",
       "      <td>53033000200</td>\n",
       "      <td>0.406597</td>\n",
       "    </tr>\n",
       "    <tr>\n",
       "      <th>579</th>\n",
       "      <td>2019-01-07</td>\n",
       "      <td>189</td>\n",
       "      <td>357</td>\n",
       "      <td>882</td>\n",
       "      <td>53033000300</td>\n",
       "      <td>0.404762</td>\n",
       "    </tr>\n",
       "    <tr>\n",
       "      <th>731</th>\n",
       "      <td>2019-01-07</td>\n",
       "      <td>343</td>\n",
       "      <td>946</td>\n",
       "      <td>2390</td>\n",
       "      <td>53033000401</td>\n",
       "      <td>0.395816</td>\n",
       "    </tr>\n",
       "    <tr>\n",
       "      <th>434</th>\n",
       "      <td>2019-01-07</td>\n",
       "      <td>42</td>\n",
       "      <td>603</td>\n",
       "      <td>1551</td>\n",
       "      <td>53033000402</td>\n",
       "      <td>0.388781</td>\n",
       "    </tr>\n",
       "  </tbody>\n",
       "</table>\n",
       "</div>"
      ],
      "text/plain": [
       "          date   id  n_devices_home  n_devices        tract  \\\n",
       "485 2019-01-07   93            1167       2997  53033000100   \n",
       "526 2019-01-07  136            1134       2789  53033000200   \n",
       "579 2019-01-07  189             357        882  53033000300   \n",
       "731 2019-01-07  343             946       2390  53033000401   \n",
       "434 2019-01-07   42             603       1551  53033000402   \n",
       "\n",
       "     ratio_devices_home  \n",
       "485            0.389389  \n",
       "526            0.406597  \n",
       "579            0.404762  \n",
       "731            0.395816  \n",
       "434            0.388781  "
      ]
     },
     "execution_count": 29,
     "metadata": {},
     "output_type": "execute_result"
    }
   ],
   "source": [
    "devices_home = (\n",
    "    pd.concat(comp_dict, names=[\"date\"])\n",
    "    .reset_index()\n",
    "    .assign(date=lambda x: pd.to_datetime(x[\"date\"]))\n",
    "    .query(\"id in @id_list\")\n",
    "    .merge(\n",
    "        devices_total,\n",
    "        how=\"inner\",\n",
    "        on=[\"date\", \"id\"],\n",
    "        validate=\"many_to_one\"\n",
    "        )\n",
    "    .assign(\n",
    "        tract=lambda x: x[\"id\"].map(id_tract_dict),\n",
    "        ratio_devices_home=lambda x: x[\"n_devices_home\"] / x[\"n_devices\"]\n",
    "    )\n",
    "    .sort_values([\"date\", \"tract\"])\n",
    ")\n",
    "devices_home.head()"
   ]
  },
  {
   "cell_type": "code",
   "execution_count": 30,
   "metadata": {},
   "outputs": [],
   "source": [
    "# devices_home.drop_duplicates([\"date\", \"id\"]).shape[0] == 103 * n_tracts"
   ]
  },
  {
   "cell_type": "code",
   "execution_count": 34,
   "metadata": {},
   "outputs": [
    {
     "name": "stdout",
     "output_type": "stream",
     "text": [
      "[]\n",
      "[]\n"
     ]
    }
   ],
   "source": [
    "devices_home_dates = devices_home[\"date\"].unique()\n",
    "print(np.setdiff1d(devices_home_dates, devices_total_dates))\n",
    "print(np.setdiff1d(devices_home_dates, devices_flow_dates))"
   ]
  },
  {
   "cell_type": "markdown",
   "metadata": {},
   "source": [
    "## Mean\n",
    "\n",
    "~~Total number of minutes spent at home across all devices in the census tract. I calculated this by multiplying (for each census block group and day), the mean number of minutes at home for all devices by the number of devices, and then summing across all census block groups and days. So if one divides this number by the devices number in the devices file, it will produce the mean number of minutes spent at home in a given day in that week.~~\n",
    "\n",
    "The \"mean\" files contain a tract value that you should divide by its \"devices\" value. After doing this, you'll have the tract's median proportion of time spent at home (which is a device-weighted average of the median proportion time at home from all block group days in the tract).\n",
    "\n",
    "These two values (proportion completely at home AND median proportion of time at home) can serve as our measures of isolation and social distancing/avoidance, respectively."
   ]
  },
  {
   "cell_type": "markdown",
   "metadata": {},
   "source": [
    "# THIS IS THE PROPORTION OF MINUTES!!!"
   ]
  },
  {
   "cell_type": "code",
   "execution_count": 35,
   "metadata": {},
   "outputs": [],
   "source": [
    "minutes_dict = {}\n",
    "for f in compmean_path.glob(\"*mean.csv\"):\n",
    "    month_day, year= f.stem.removesuffix(\"mean\").split(\"_\")\n",
    "    month, day = month_day.split(\"-\")\n",
    "    day = day if len(day) == 2 else \"0\" + day\n",
    "    file_date = \"-\".join([year, month, day])\n",
    "    minutes_dict[file_date] = pd.read_csv(\n",
    "        f,\n",
    "        index_col=0,\n",
    "        names=[\"id\", \"minutes_home\"],\n",
    "        header=0\n",
    "    )"
   ]
  },
  {
   "cell_type": "code",
   "execution_count": 36,
   "metadata": {},
   "outputs": [
    {
     "data": {
      "application/vnd.microsoft.datawrangler.viewer.v0+json": {
       "columns": [
        {
         "name": "index",
         "rawType": "int64",
         "type": "integer"
        },
        {
         "name": "date",
         "rawType": "datetime64[ns]",
         "type": "datetime"
        },
        {
         "name": "id",
         "rawType": "int64",
         "type": "integer"
        },
        {
         "name": "minutes_home",
         "rawType": "int64",
         "type": "integer"
        },
        {
         "name": "n_devices",
         "rawType": "int64",
         "type": "integer"
        },
        {
         "name": "tract",
         "rawType": "int64",
         "type": "integer"
        },
        {
         "name": "perc_time_devices_home",
         "rawType": "float64",
         "type": "float"
        }
       ],
       "conversionMethod": "pd.DataFrame",
       "ref": "b4e7a38f-69fd-4bd0-b561-17f183741431",
       "rows": [
        [
         "485",
         "2019-01-07 00:00:00",
         "93",
         "270684",
         "2997",
         "53033000100",
         "90.31831831831832"
        ],
        [
         "526",
         "2019-01-07 00:00:00",
         "136",
         "253157",
         "2789",
         "53033000200",
         "90.76980996773037"
        ],
        [
         "579",
         "2019-01-07 00:00:00",
         "189",
         "82640",
         "882",
         "53033000300",
         "93.69614512471655"
        ],
        [
         "731",
         "2019-01-07 00:00:00",
         "343",
         "212455",
         "2390",
         "53033000401",
         "88.89330543933055"
        ],
        [
         "434",
         "2019-01-07 00:00:00",
         "42",
         "138686",
         "1551",
         "53033000402",
         "89.41715022566086"
        ],
        [
         "570",
         "2019-01-07 00:00:00",
         "180",
         "69605",
         "805",
         "53033000500",
         "86.46583850931677"
        ],
        [
         "401",
         "2019-01-07 00:00:00",
         "9",
         "245607",
         "2723",
         "53033000600",
         "90.19720896070511"
        ],
        [
         "421",
         "2019-01-07 00:00:00",
         "29",
         "215426",
         "2541",
         "53033000700",
         "84.78000787091696"
        ],
        [
         "643",
         "2019-01-07 00:00:00",
         "255",
         "51985",
         "637",
         "53033000800",
         "81.60910518053375"
        ],
        [
         "733",
         "2019-01-07 00:00:00",
         "345",
         "42029",
         "486",
         "53033000900",
         "86.47942386831275"
        ],
        [
         "432",
         "2019-01-07 00:00:00",
         "40",
         "60107",
         "665",
         "53033001000",
         "90.38646616541354"
        ],
        [
         "533",
         "2019-01-07 00:00:00",
         "143",
         "67574",
         "761",
         "53033001100",
         "88.79632063074901"
        ],
        [
         "595",
         "2019-01-07 00:00:00",
         "205",
         "239417",
         "2636",
         "53033001200",
         "90.82587253414265"
        ],
        [
         "534",
         "2019-01-07 00:00:00",
         "144",
         "148520",
         "1596",
         "53033001300",
         "93.05764411027569"
        ],
        [
         "683",
         "2019-01-07 00:00:00",
         "295",
         "141327",
         "1657",
         "53033001400",
         "85.29088714544358"
        ],
        [
         "563",
         "2019-01-07 00:00:00",
         "173",
         "56231",
         "681",
         "53033001500",
         "82.5712187958884"
        ],
        [
         "713",
         "2019-01-07 00:00:00",
         "325",
         "96267",
         "1135",
         "53033001600",
         "84.81674008810573"
        ],
        [
         "626",
         "2019-01-07 00:00:00",
         "237",
         "123787",
         "1342",
         "53033001701",
         "92.24068554396423"
        ],
        [
         "754",
         "2019-01-07 00:00:00",
         "366",
         "126791",
         "1472",
         "53033001702",
         "86.1351902173913"
        ],
        [
         "487",
         "2019-01-07 00:00:00",
         "95",
         "138587",
         "1564",
         "53033001800",
         "88.61061381074168"
        ],
        [
         "647",
         "2019-01-07 00:00:00",
         "259",
         "108892",
         "1271",
         "53033001900",
         "85.67427222659323"
        ],
        [
         "768",
         "2019-01-07 00:00:00",
         "380",
         "96397",
         "1096",
         "53033002000",
         "87.95346715328468"
        ],
        [
         "568",
         "2019-01-07 00:00:00",
         "178",
         "89462",
         "1116",
         "53033002100",
         "80.16308243727599"
        ],
        [
         "585",
         "2019-01-07 00:00:00",
         "195",
         "117967",
         "1370",
         "53033002200",
         "86.107299270073"
        ],
        [
         "704",
         "2019-01-07 00:00:00",
         "316",
         "75441",
         "916",
         "53033002400",
         "82.35917030567686"
        ],
        [
         "658",
         "2019-01-07 00:00:00",
         "270",
         "31459",
         "4030",
         "53033002500",
         "7.806203473945409"
        ],
        [
         "720",
         "2019-01-07 00:00:00",
         "332",
         "125211",
         "1414",
         "53033002600",
         "88.55091937765205"
        ],
        [
         "553",
         "2019-01-07 00:00:00",
         "163",
         "132079",
         "1541",
         "53033002700",
         "85.70992861778066"
        ],
        [
         "531",
         "2019-01-07 00:00:00",
         "141",
         "110812",
         "1274",
         "53033002800",
         "86.9795918367347"
        ],
        [
         "494",
         "2019-01-07 00:00:00",
         "103",
         "100055",
         "1114",
         "53033002900",
         "89.81597845601436"
        ],
        [
         "691",
         "2019-01-07 00:00:00",
         "303",
         "315706",
         "3597",
         "53033003000",
         "87.76925215457325"
        ],
        [
         "698",
         "2019-01-07 00:00:00",
         "310",
         "148244",
         "1733",
         "53033003100",
         "85.54183496826313"
        ],
        [
         "498",
         "2019-01-07 00:00:00",
         "107",
         "224764",
         "2568",
         "53033003200",
         "87.52492211838006"
        ],
        [
         "655",
         "2019-01-07 00:00:00",
         "267",
         "177756",
         "2051",
         "53033003300",
         "86.66796684544124"
        ],
        [
         "690",
         "2019-01-07 00:00:00",
         "302",
         "55095",
         "721",
         "53033003400",
         "76.41470180305132"
        ],
        [
         "770",
         "2019-01-07 00:00:00",
         "382",
         "89692",
         "1012",
         "53033003500",
         "88.62845849802372"
        ],
        [
         "722",
         "2019-01-07 00:00:00",
         "334",
         "237397",
         "2682",
         "53033003600",
         "88.51491424310217"
        ],
        [
         "500",
         "2019-01-07 00:00:00",
         "109",
         "57882",
         "677",
         "53033003800",
         "85.49778434268833"
        ],
        [
         "583",
         "2019-01-07 00:00:00",
         "193",
         "65650",
         "785",
         "53033003900",
         "83.63057324840764"
        ],
        [
         "766",
         "2019-01-07 00:00:00",
         "378",
         "88143",
         "991",
         "53033004000",
         "88.94349142280525"
        ],
        [
         "710",
         "2019-01-07 00:00:00",
         "322",
         "169809",
         "2082",
         "53033004100",
         "81.56051873198847"
        ],
        [
         "757",
         "2019-01-07 00:00:00",
         "369",
         "179262",
         "2183",
         "53033004200",
         "82.11726981218507"
        ],
        [
         "753",
         "2019-01-07 00:00:00",
         "365",
         "105367",
         "1203",
         "53033004301",
         "87.58686616791356"
        ],
        [
         "455",
         "2019-01-07 00:00:00",
         "63",
         "222359",
         "3493",
         "53033004302",
         "63.65845977669625"
        ],
        [
         "640",
         "2019-01-07 00:00:00",
         "252",
         "229809",
         "2607",
         "53033004400",
         "88.15074798619102"
        ],
        [
         "653",
         "2019-01-07 00:00:00",
         "265",
         "79786",
         "912",
         "53033004500",
         "87.48464912280701"
        ],
        [
         "466",
         "2019-01-07 00:00:00",
         "74",
         "212177",
         "4107",
         "53033004600",
         "51.66228390552715"
        ],
        [
         "554",
         "2019-01-07 00:00:00",
         "164",
         "352777",
         "4008",
         "53033004700",
         "88.0182135728543"
        ],
        [
         "580",
         "2019-01-07 00:00:00",
         "190",
         "125547",
         "1478",
         "53033004800",
         "84.94384303112314"
        ],
        [
         "693",
         "2019-01-07 00:00:00",
         "305",
         "203455",
         "2202",
         "53033004900",
         "92.39554950045414"
        ]
       ],
       "shape": {
        "columns": 6,
        "rows": 40479
       }
      },
      "text/html": [
       "<div>\n",
       "<style scoped>\n",
       "    .dataframe tbody tr th:only-of-type {\n",
       "        vertical-align: middle;\n",
       "    }\n",
       "\n",
       "    .dataframe tbody tr th {\n",
       "        vertical-align: top;\n",
       "    }\n",
       "\n",
       "    .dataframe thead th {\n",
       "        text-align: right;\n",
       "    }\n",
       "</style>\n",
       "<table border=\"1\" class=\"dataframe\">\n",
       "  <thead>\n",
       "    <tr style=\"text-align: right;\">\n",
       "      <th></th>\n",
       "      <th>date</th>\n",
       "      <th>id</th>\n",
       "      <th>minutes_home</th>\n",
       "      <th>n_devices</th>\n",
       "      <th>tract</th>\n",
       "      <th>perc_time_devices_home</th>\n",
       "    </tr>\n",
       "  </thead>\n",
       "  <tbody>\n",
       "    <tr>\n",
       "      <th>485</th>\n",
       "      <td>2019-01-07</td>\n",
       "      <td>93</td>\n",
       "      <td>270684</td>\n",
       "      <td>2997</td>\n",
       "      <td>53033000100</td>\n",
       "      <td>90.318318</td>\n",
       "    </tr>\n",
       "    <tr>\n",
       "      <th>526</th>\n",
       "      <td>2019-01-07</td>\n",
       "      <td>136</td>\n",
       "      <td>253157</td>\n",
       "      <td>2789</td>\n",
       "      <td>53033000200</td>\n",
       "      <td>90.769810</td>\n",
       "    </tr>\n",
       "    <tr>\n",
       "      <th>579</th>\n",
       "      <td>2019-01-07</td>\n",
       "      <td>189</td>\n",
       "      <td>82640</td>\n",
       "      <td>882</td>\n",
       "      <td>53033000300</td>\n",
       "      <td>93.696145</td>\n",
       "    </tr>\n",
       "    <tr>\n",
       "      <th>731</th>\n",
       "      <td>2019-01-07</td>\n",
       "      <td>343</td>\n",
       "      <td>212455</td>\n",
       "      <td>2390</td>\n",
       "      <td>53033000401</td>\n",
       "      <td>88.893305</td>\n",
       "    </tr>\n",
       "    <tr>\n",
       "      <th>434</th>\n",
       "      <td>2019-01-07</td>\n",
       "      <td>42</td>\n",
       "      <td>138686</td>\n",
       "      <td>1551</td>\n",
       "      <td>53033000402</td>\n",
       "      <td>89.417150</td>\n",
       "    </tr>\n",
       "    <tr>\n",
       "      <th>...</th>\n",
       "      <td>...</td>\n",
       "      <td>...</td>\n",
       "      <td>...</td>\n",
       "      <td>...</td>\n",
       "      <td>...</td>\n",
       "      <td>...</td>\n",
       "    </tr>\n",
       "    <tr>\n",
       "      <th>39345</th>\n",
       "      <td>2020-12-21</td>\n",
       "      <td>46</td>\n",
       "      <td>126881</td>\n",
       "      <td>1303</td>\n",
       "      <td>53033032402</td>\n",
       "      <td>97.376055</td>\n",
       "    </tr>\n",
       "    <tr>\n",
       "      <th>39670</th>\n",
       "      <td>2020-12-21</td>\n",
       "      <td>375</td>\n",
       "      <td>142148</td>\n",
       "      <td>1678</td>\n",
       "      <td>53033032601</td>\n",
       "      <td>84.712753</td>\n",
       "    </tr>\n",
       "    <tr>\n",
       "      <th>39367</th>\n",
       "      <td>2020-12-21</td>\n",
       "      <td>68</td>\n",
       "      <td>140854</td>\n",
       "      <td>1534</td>\n",
       "      <td>53033032602</td>\n",
       "      <td>91.821382</td>\n",
       "    </tr>\n",
       "    <tr>\n",
       "      <th>39524</th>\n",
       "      <td>2020-12-21</td>\n",
       "      <td>228</td>\n",
       "      <td>65826</td>\n",
       "      <td>676</td>\n",
       "      <td>53033032703</td>\n",
       "      <td>97.375740</td>\n",
       "    </tr>\n",
       "    <tr>\n",
       "      <th>39354</th>\n",
       "      <td>2020-12-21</td>\n",
       "      <td>55</td>\n",
       "      <td>106294</td>\n",
       "      <td>1149</td>\n",
       "      <td>53033032704</td>\n",
       "      <td>92.510009</td>\n",
       "    </tr>\n",
       "  </tbody>\n",
       "</table>\n",
       "<p>40479 rows × 6 columns</p>\n",
       "</div>"
      ],
      "text/plain": [
       "            date   id  minutes_home  n_devices        tract  \\\n",
       "485   2019-01-07   93        270684       2997  53033000100   \n",
       "526   2019-01-07  136        253157       2789  53033000200   \n",
       "579   2019-01-07  189         82640        882  53033000300   \n",
       "731   2019-01-07  343        212455       2390  53033000401   \n",
       "434   2019-01-07   42        138686       1551  53033000402   \n",
       "...          ...  ...           ...        ...          ...   \n",
       "39345 2020-12-21   46        126881       1303  53033032402   \n",
       "39670 2020-12-21  375        142148       1678  53033032601   \n",
       "39367 2020-12-21   68        140854       1534  53033032602   \n",
       "39524 2020-12-21  228         65826        676  53033032703   \n",
       "39354 2020-12-21   55        106294       1149  53033032704   \n",
       "\n",
       "       perc_time_devices_home  \n",
       "485                 90.318318  \n",
       "526                 90.769810  \n",
       "579                 93.696145  \n",
       "731                 88.893305  \n",
       "434                 89.417150  \n",
       "...                       ...  \n",
       "39345               97.376055  \n",
       "39670               84.712753  \n",
       "39367               91.821382  \n",
       "39524               97.375740  \n",
       "39354               92.510009  \n",
       "\n",
       "[40479 rows x 6 columns]"
      ]
     },
     "execution_count": 36,
     "metadata": {},
     "output_type": "execute_result"
    }
   ],
   "source": [
    "devices_minutes_home = (\n",
    "    pd.concat(minutes_dict, names=[\"date\"])\n",
    "    .reset_index()\n",
    "    .assign(date=lambda x: pd.to_datetime(x[\"date\"]))\n",
    "    .query(\"id in @id_list\")\n",
    "    .merge(\n",
    "        devices_total,\n",
    "        how=\"inner\",\n",
    "        on=[\"date\", \"id\"],\n",
    "        validate=\"many_to_one\"\n",
    "    )\n",
    "    .assign(\n",
    "        perc_time_devices_home=lambda x: x[\"minutes_home\"] / x[\"n_devices\"],  # I think it could have a beter name\n",
    "        tract=lambda x: x[\"id\"].map(id_tract_dict)\n",
    "    )\n",
    "    .sort_values([\"date\", \"tract\"])\n",
    ")\n",
    "devices_minutes_home"
   ]
  },
  {
   "cell_type": "code",
   "execution_count": 39,
   "metadata": {},
   "outputs": [],
   "source": [
    "# devices_minutes_home.drop_duplicates([\"date\", \"id\"]).shape[0] == 103 * n_tracts"
   ]
  },
  {
   "cell_type": "code",
   "execution_count": 38,
   "metadata": {},
   "outputs": [
    {
     "name": "stdout",
     "output_type": "stream",
     "text": [
      "[]\n",
      "[]\n",
      "[]\n"
     ]
    }
   ],
   "source": [
    "devices_minutes_home_dates = devices_minutes_home[\"date\"].unique()\n",
    "print(np.setdiff1d(devices_minutes_home_dates , devices_total_dates))\n",
    "print(np.setdiff1d(devices_minutes_home_dates , devices_flow_dates))\n",
    "print(np.setdiff1d(devices_minutes_home_dates , devices_home_dates))"
   ]
  },
  {
   "cell_type": "markdown",
   "metadata": {},
   "source": [
    "## Agents\n"
   ]
  },
  {
   "cell_type": "code",
   "execution_count": 57,
   "metadata": {},
   "outputs": [
    {
     "data": {
      "application/vnd.microsoft.datawrangler.viewer.v0+json": {
       "columns": [
        {
         "name": "index",
         "rawType": "int64",
         "type": "integer"
        },
        {
         "name": "tract",
         "rawType": "int64",
         "type": "integer"
        },
        {
         "name": "mean_devices",
         "rawType": "float64",
         "type": "float"
        },
        {
         "name": "std_devices",
         "rawType": "float64",
         "type": "float"
        }
       ],
       "conversionMethod": "pd.DataFrame",
       "ref": "d6d4052f-c499-4d5d-8096-a44180f655a6",
       "rows": [
        [
         "0",
         "53033000100",
         "350.75728155339806",
         "33.42007622041601"
        ],
        [
         "1",
         "53033000200",
         "232.26074895977808",
         "124.72813240676396"
        ],
        [
         "2",
         "53033000300",
         "188.0748959778086",
         "66.67932806335462"
        ],
        [
         "3",
         "53033000401",
         "283.18169209431346",
         "24.87925377854681"
        ],
        [
         "4",
         "53033000402",
         "174.02912621359224",
         "29.600341480726737"
        ]
       ],
       "shape": {
        "columns": 3,
        "rows": 5
       }
      },
      "text/html": [
       "<div>\n",
       "<style scoped>\n",
       "    .dataframe tbody tr th:only-of-type {\n",
       "        vertical-align: middle;\n",
       "    }\n",
       "\n",
       "    .dataframe tbody tr th {\n",
       "        vertical-align: top;\n",
       "    }\n",
       "\n",
       "    .dataframe thead th {\n",
       "        text-align: right;\n",
       "    }\n",
       "</style>\n",
       "<table border=\"1\" class=\"dataframe\">\n",
       "  <thead>\n",
       "    <tr style=\"text-align: right;\">\n",
       "      <th></th>\n",
       "      <th>tract</th>\n",
       "      <th>mean_devices</th>\n",
       "      <th>std_devices</th>\n",
       "    </tr>\n",
       "  </thead>\n",
       "  <tbody>\n",
       "    <tr>\n",
       "      <th>0</th>\n",
       "      <td>53033000100</td>\n",
       "      <td>350.757282</td>\n",
       "      <td>33.420076</td>\n",
       "    </tr>\n",
       "    <tr>\n",
       "      <th>1</th>\n",
       "      <td>53033000200</td>\n",
       "      <td>232.260749</td>\n",
       "      <td>124.728132</td>\n",
       "    </tr>\n",
       "    <tr>\n",
       "      <th>2</th>\n",
       "      <td>53033000300</td>\n",
       "      <td>188.074896</td>\n",
       "      <td>66.679328</td>\n",
       "    </tr>\n",
       "    <tr>\n",
       "      <th>3</th>\n",
       "      <td>53033000401</td>\n",
       "      <td>283.181692</td>\n",
       "      <td>24.879254</td>\n",
       "    </tr>\n",
       "    <tr>\n",
       "      <th>4</th>\n",
       "      <td>53033000402</td>\n",
       "      <td>174.029126</td>\n",
       "      <td>29.600341</td>\n",
       "    </tr>\n",
       "  </tbody>\n",
       "</table>\n",
       "</div>"
      ],
      "text/plain": [
       "         tract  mean_devices  std_devices\n",
       "0  53033000100    350.757282    33.420076\n",
       "1  53033000200    232.260749   124.728132\n",
       "2  53033000300    188.074896    66.679328\n",
       "3  53033000401    283.181692    24.879254\n",
       "4  53033000402    174.029126    29.600341"
      ]
     },
     "execution_count": 57,
     "metadata": {},
     "output_type": "execute_result"
    }
   ],
   "source": [
    "devices_tract = (\n",
    "  devices_total.assign(n_devices=lambda x: x['n_devices'] / 7)  # 7 days per week\n",
    "  .groupby('tract', as_index=False)\n",
    "  .agg(\n",
    "    mean_devices=('n_devices', 'mean'),\n",
    "    std_devices=('n_devices', 'std')\n",
    "  )\n",
    ")\n",
    "devices_tract.head()"
   ]
  },
  {
   "cell_type": "code",
   "execution_count": null,
   "metadata": {},
   "outputs": [
    {
     "data": {
      "application/vnd.microsoft.datawrangler.viewer.v0+json": {
       "columns": [
        {
         "name": "index",
         "rawType": "int64",
         "type": "integer"
        },
        {
         "name": "tract",
         "rawType": "int64",
         "type": "integer"
        },
        {
         "name": "n_agents",
         "rawType": "int64",
         "type": "integer"
        }
       ],
       "conversionMethod": "pd.DataFrame",
       "ref": "c96d2f92-0f09-4a4b-8658-9e7431957c75",
       "rows": [
        [
         "0",
         "53033000100",
         "350"
        ],
        [
         "1",
         "53033000200",
         "232"
        ],
        [
         "2",
         "53033000300",
         "188"
        ],
        [
         "3",
         "53033000401",
         "283"
        ],
        [
         "4",
         "53033000402",
         "174"
        ]
       ],
       "shape": {
        "columns": 2,
        "rows": 5
       }
      },
      "text/html": [
       "<div>\n",
       "<style scoped>\n",
       "    .dataframe tbody tr th:only-of-type {\n",
       "        vertical-align: middle;\n",
       "    }\n",
       "\n",
       "    .dataframe tbody tr th {\n",
       "        vertical-align: top;\n",
       "    }\n",
       "\n",
       "    .dataframe thead th {\n",
       "        text-align: right;\n",
       "    }\n",
       "</style>\n",
       "<table border=\"1\" class=\"dataframe\">\n",
       "  <thead>\n",
       "    <tr style=\"text-align: right;\">\n",
       "      <th></th>\n",
       "      <th>tract</th>\n",
       "      <th>n_agents</th>\n",
       "    </tr>\n",
       "  </thead>\n",
       "  <tbody>\n",
       "    <tr>\n",
       "      <th>0</th>\n",
       "      <td>53033000100</td>\n",
       "      <td>350</td>\n",
       "    </tr>\n",
       "    <tr>\n",
       "      <th>1</th>\n",
       "      <td>53033000200</td>\n",
       "      <td>232</td>\n",
       "    </tr>\n",
       "    <tr>\n",
       "      <th>2</th>\n",
       "      <td>53033000300</td>\n",
       "      <td>188</td>\n",
       "    </tr>\n",
       "    <tr>\n",
       "      <th>3</th>\n",
       "      <td>53033000401</td>\n",
       "      <td>283</td>\n",
       "    </tr>\n",
       "    <tr>\n",
       "      <th>4</th>\n",
       "      <td>53033000402</td>\n",
       "      <td>174</td>\n",
       "    </tr>\n",
       "  </tbody>\n",
       "</table>\n",
       "</div>"
      ],
      "text/plain": [
       "         tract  n_agents\n",
       "0  53033000100       350\n",
       "1  53033000200       232\n",
       "2  53033000300       188\n",
       "3  53033000401       283\n",
       "4  53033000402       174"
      ]
     },
     "execution_count": 61,
     "metadata": {},
     "output_type": "execute_result"
    }
   ],
   "source": [
    "agents_tract = (\n",
    "  devices_tract.assign(n_agents=lambda x: x['mean_devices'].astype(int))\n",
    "  .loc[:, ['tract', 'n_agents']]\n",
    "  .sort_values('tract')\n",
    ")\n",
    "agents_tract.head()"
   ]
  },
  {
   "cell_type": "code",
   "execution_count": 80,
   "metadata": {},
   "outputs": [],
   "source": [
    "agents_tract.to_csv(data_path / \"agents_tract.csv\", index=False)\n",
    "# agents_tract.to_json(data_path / \"agents_tract.json\", index=False)"
   ]
  },
  {
   "cell_type": "markdown",
   "metadata": {},
   "source": [
    "## Devices completely at home"
   ]
  },
  {
   "cell_type": "code",
   "execution_count": 82,
   "metadata": {},
   "outputs": [
    {
     "data": {
      "application/vnd.microsoft.datawrangler.viewer.v0+json": {
       "columns": [
        {
         "name": "index",
         "rawType": "int64",
         "type": "integer"
        },
        {
         "name": "date",
         "rawType": "datetime64[ns]",
         "type": "datetime"
        },
        {
         "name": "id",
         "rawType": "int64",
         "type": "integer"
        },
        {
         "name": "n_devices_home",
         "rawType": "int64",
         "type": "integer"
        },
        {
         "name": "n_devices",
         "rawType": "int64",
         "type": "integer"
        },
        {
         "name": "tract",
         "rawType": "int64",
         "type": "integer"
        },
        {
         "name": "ratio_devices_home",
         "rawType": "float64",
         "type": "float"
        }
       ],
       "conversionMethod": "pd.DataFrame",
       "ref": "6ac967e2-b120-4b80-9cbf-c90133cf6437",
       "rows": [
        [
         "485",
         "2019-01-07 00:00:00",
         "93",
         "1167",
         "2997",
         "53033000100",
         "0.3893893893893894"
        ],
        [
         "526",
         "2019-01-07 00:00:00",
         "136",
         "1134",
         "2789",
         "53033000200",
         "0.40659734671925424"
        ],
        [
         "579",
         "2019-01-07 00:00:00",
         "189",
         "357",
         "882",
         "53033000300",
         "0.40476190476190477"
        ],
        [
         "731",
         "2019-01-07 00:00:00",
         "343",
         "946",
         "2390",
         "53033000401",
         "0.39581589958158997"
        ],
        [
         "434",
         "2019-01-07 00:00:00",
         "42",
         "603",
         "1551",
         "53033000402",
         "0.38878143133462284"
        ]
       ],
       "shape": {
        "columns": 6,
        "rows": 5
       }
      },
      "text/html": [
       "<div>\n",
       "<style scoped>\n",
       "    .dataframe tbody tr th:only-of-type {\n",
       "        vertical-align: middle;\n",
       "    }\n",
       "\n",
       "    .dataframe tbody tr th {\n",
       "        vertical-align: top;\n",
       "    }\n",
       "\n",
       "    .dataframe thead th {\n",
       "        text-align: right;\n",
       "    }\n",
       "</style>\n",
       "<table border=\"1\" class=\"dataframe\">\n",
       "  <thead>\n",
       "    <tr style=\"text-align: right;\">\n",
       "      <th></th>\n",
       "      <th>date</th>\n",
       "      <th>id</th>\n",
       "      <th>n_devices_home</th>\n",
       "      <th>n_devices</th>\n",
       "      <th>tract</th>\n",
       "      <th>ratio_devices_home</th>\n",
       "    </tr>\n",
       "  </thead>\n",
       "  <tbody>\n",
       "    <tr>\n",
       "      <th>485</th>\n",
       "      <td>2019-01-07</td>\n",
       "      <td>93</td>\n",
       "      <td>1167</td>\n",
       "      <td>2997</td>\n",
       "      <td>53033000100</td>\n",
       "      <td>0.389389</td>\n",
       "    </tr>\n",
       "    <tr>\n",
       "      <th>526</th>\n",
       "      <td>2019-01-07</td>\n",
       "      <td>136</td>\n",
       "      <td>1134</td>\n",
       "      <td>2789</td>\n",
       "      <td>53033000200</td>\n",
       "      <td>0.406597</td>\n",
       "    </tr>\n",
       "    <tr>\n",
       "      <th>579</th>\n",
       "      <td>2019-01-07</td>\n",
       "      <td>189</td>\n",
       "      <td>357</td>\n",
       "      <td>882</td>\n",
       "      <td>53033000300</td>\n",
       "      <td>0.404762</td>\n",
       "    </tr>\n",
       "    <tr>\n",
       "      <th>731</th>\n",
       "      <td>2019-01-07</td>\n",
       "      <td>343</td>\n",
       "      <td>946</td>\n",
       "      <td>2390</td>\n",
       "      <td>53033000401</td>\n",
       "      <td>0.395816</td>\n",
       "    </tr>\n",
       "    <tr>\n",
       "      <th>434</th>\n",
       "      <td>2019-01-07</td>\n",
       "      <td>42</td>\n",
       "      <td>603</td>\n",
       "      <td>1551</td>\n",
       "      <td>53033000402</td>\n",
       "      <td>0.388781</td>\n",
       "    </tr>\n",
       "  </tbody>\n",
       "</table>\n",
       "</div>"
      ],
      "text/plain": [
       "          date   id  n_devices_home  n_devices        tract  \\\n",
       "485 2019-01-07   93            1167       2997  53033000100   \n",
       "526 2019-01-07  136            1134       2789  53033000200   \n",
       "579 2019-01-07  189             357        882  53033000300   \n",
       "731 2019-01-07  343             946       2390  53033000401   \n",
       "434 2019-01-07   42             603       1551  53033000402   \n",
       "\n",
       "     ratio_devices_home  \n",
       "485            0.389389  \n",
       "526            0.406597  \n",
       "579            0.404762  \n",
       "731            0.395816  \n",
       "434            0.388781  "
      ]
     },
     "execution_count": 82,
     "metadata": {},
     "output_type": "execute_result"
    }
   ],
   "source": [
    "devices_home.head()"
   ]
  },
  {
   "cell_type": "code",
   "execution_count": 84,
   "metadata": {},
   "outputs": [
    {
     "data": {
      "application/vnd.microsoft.datawrangler.viewer.v0+json": {
       "columns": [
        {
         "name": "index",
         "rawType": "int64",
         "type": "integer"
        },
        {
         "name": "date",
         "rawType": "datetime64[ns]",
         "type": "datetime"
        },
        {
         "name": "tract",
         "rawType": "int64",
         "type": "integer"
        },
        {
         "name": "prob_stay_home",
         "rawType": "float64",
         "type": "float"
        }
       ],
       "conversionMethod": "pd.DataFrame",
       "ref": "66b9f3d5-8955-4603-85b1-a02811fbb701",
       "rows": [
        [
         "485",
         "2019-01-07 00:00:00",
         "53033000100",
         "0.3893893893893894"
        ],
        [
         "526",
         "2019-01-07 00:00:00",
         "53033000200",
         "0.40659734671925424"
        ],
        [
         "579",
         "2019-01-07 00:00:00",
         "53033000300",
         "0.40476190476190477"
        ],
        [
         "731",
         "2019-01-07 00:00:00",
         "53033000401",
         "0.39581589958158997"
        ],
        [
         "434",
         "2019-01-07 00:00:00",
         "53033000402",
         "0.38878143133462284"
        ]
       ],
       "shape": {
        "columns": 3,
        "rows": 5
       }
      },
      "text/html": [
       "<div>\n",
       "<style scoped>\n",
       "    .dataframe tbody tr th:only-of-type {\n",
       "        vertical-align: middle;\n",
       "    }\n",
       "\n",
       "    .dataframe tbody tr th {\n",
       "        vertical-align: top;\n",
       "    }\n",
       "\n",
       "    .dataframe thead th {\n",
       "        text-align: right;\n",
       "    }\n",
       "</style>\n",
       "<table border=\"1\" class=\"dataframe\">\n",
       "  <thead>\n",
       "    <tr style=\"text-align: right;\">\n",
       "      <th></th>\n",
       "      <th>date</th>\n",
       "      <th>tract</th>\n",
       "      <th>prob_stay_home</th>\n",
       "    </tr>\n",
       "  </thead>\n",
       "  <tbody>\n",
       "    <tr>\n",
       "      <th>485</th>\n",
       "      <td>2019-01-07</td>\n",
       "      <td>53033000100</td>\n",
       "      <td>0.389389</td>\n",
       "    </tr>\n",
       "    <tr>\n",
       "      <th>526</th>\n",
       "      <td>2019-01-07</td>\n",
       "      <td>53033000200</td>\n",
       "      <td>0.406597</td>\n",
       "    </tr>\n",
       "    <tr>\n",
       "      <th>579</th>\n",
       "      <td>2019-01-07</td>\n",
       "      <td>53033000300</td>\n",
       "      <td>0.404762</td>\n",
       "    </tr>\n",
       "    <tr>\n",
       "      <th>731</th>\n",
       "      <td>2019-01-07</td>\n",
       "      <td>53033000401</td>\n",
       "      <td>0.395816</td>\n",
       "    </tr>\n",
       "    <tr>\n",
       "      <th>434</th>\n",
       "      <td>2019-01-07</td>\n",
       "      <td>53033000402</td>\n",
       "      <td>0.388781</td>\n",
       "    </tr>\n",
       "  </tbody>\n",
       "</table>\n",
       "</div>"
      ],
      "text/plain": [
       "          date        tract  prob_stay_home\n",
       "485 2019-01-07  53033000100        0.389389\n",
       "526 2019-01-07  53033000200        0.406597\n",
       "579 2019-01-07  53033000300        0.404762\n",
       "731 2019-01-07  53033000401        0.395816\n",
       "434 2019-01-07  53033000402        0.388781"
      ]
     },
     "execution_count": 84,
     "metadata": {},
     "output_type": "execute_result"
    }
   ],
   "source": [
    "agents_home = (\n",
    "  devices_home.rename(columns={'ratio_devices_home': 'prob_stay_home'})\n",
    "  .loc[:, ['date', 'tract', 'prob_stay_home']]\n",
    "  .sort_values(['date', 'tract'])\n",
    ")\n",
    "agents_home.head()"
   ]
  },
  {
   "cell_type": "code",
   "execution_count": 85,
   "metadata": {},
   "outputs": [],
   "source": [
    "agents_home.to_csv(data_path / \"agents_home.csv\", index=False)"
   ]
  },
  {
   "cell_type": "markdown",
   "metadata": {},
   "source": [
    "## Percentage of time at home"
   ]
  },
  {
   "cell_type": "code",
   "execution_count": 87,
   "metadata": {},
   "outputs": [
    {
     "data": {
      "application/vnd.microsoft.datawrangler.viewer.v0+json": {
       "columns": [
        {
         "name": "index",
         "rawType": "int64",
         "type": "integer"
        },
        {
         "name": "date",
         "rawType": "datetime64[ns]",
         "type": "datetime"
        },
        {
         "name": "tract",
         "rawType": "int64",
         "type": "integer"
        },
        {
         "name": "percentage_time_home",
         "rawType": "float64",
         "type": "float"
        }
       ],
       "conversionMethod": "pd.DataFrame",
       "ref": "4833d9c9-300b-4ff1-9658-b923767117ce",
       "rows": [
        [
         "485",
         "2019-01-07 00:00:00",
         "53033000100",
         "90.31831831831832"
        ],
        [
         "526",
         "2019-01-07 00:00:00",
         "53033000200",
         "90.76980996773037"
        ],
        [
         "579",
         "2019-01-07 00:00:00",
         "53033000300",
         "93.69614512471655"
        ],
        [
         "731",
         "2019-01-07 00:00:00",
         "53033000401",
         "88.89330543933055"
        ],
        [
         "434",
         "2019-01-07 00:00:00",
         "53033000402",
         "89.41715022566086"
        ]
       ],
       "shape": {
        "columns": 3,
        "rows": 5
       }
      },
      "text/html": [
       "<div>\n",
       "<style scoped>\n",
       "    .dataframe tbody tr th:only-of-type {\n",
       "        vertical-align: middle;\n",
       "    }\n",
       "\n",
       "    .dataframe tbody tr th {\n",
       "        vertical-align: top;\n",
       "    }\n",
       "\n",
       "    .dataframe thead th {\n",
       "        text-align: right;\n",
       "    }\n",
       "</style>\n",
       "<table border=\"1\" class=\"dataframe\">\n",
       "  <thead>\n",
       "    <tr style=\"text-align: right;\">\n",
       "      <th></th>\n",
       "      <th>date</th>\n",
       "      <th>tract</th>\n",
       "      <th>percentage_time_home</th>\n",
       "    </tr>\n",
       "  </thead>\n",
       "  <tbody>\n",
       "    <tr>\n",
       "      <th>485</th>\n",
       "      <td>2019-01-07</td>\n",
       "      <td>53033000100</td>\n",
       "      <td>90.318318</td>\n",
       "    </tr>\n",
       "    <tr>\n",
       "      <th>526</th>\n",
       "      <td>2019-01-07</td>\n",
       "      <td>53033000200</td>\n",
       "      <td>90.769810</td>\n",
       "    </tr>\n",
       "    <tr>\n",
       "      <th>579</th>\n",
       "      <td>2019-01-07</td>\n",
       "      <td>53033000300</td>\n",
       "      <td>93.696145</td>\n",
       "    </tr>\n",
       "    <tr>\n",
       "      <th>731</th>\n",
       "      <td>2019-01-07</td>\n",
       "      <td>53033000401</td>\n",
       "      <td>88.893305</td>\n",
       "    </tr>\n",
       "    <tr>\n",
       "      <th>434</th>\n",
       "      <td>2019-01-07</td>\n",
       "      <td>53033000402</td>\n",
       "      <td>89.417150</td>\n",
       "    </tr>\n",
       "  </tbody>\n",
       "</table>\n",
       "</div>"
      ],
      "text/plain": [
       "          date        tract  percentage_time_home\n",
       "485 2019-01-07  53033000100             90.318318\n",
       "526 2019-01-07  53033000200             90.769810\n",
       "579 2019-01-07  53033000300             93.696145\n",
       "731 2019-01-07  53033000401             88.893305\n",
       "434 2019-01-07  53033000402             89.417150"
      ]
     },
     "execution_count": 87,
     "metadata": {},
     "output_type": "execute_result"
    }
   ],
   "source": [
    "agents_percentage_home = (\n",
    "  devices_minutes_home.rename(columns={'perc_time_devices_home': 'percentage_time_home'})\n",
    "  .loc[:, ['date', 'tract', 'percentage_time_home']]\n",
    "  .sort_values(['date', 'tract'])\n",
    ")\n",
    "agents_percentage_home.head()"
   ]
  },
  {
   "cell_type": "code",
   "execution_count": 88,
   "metadata": {},
   "outputs": [],
   "source": [
    "agents_percentage_home.to_csv(data_path / \"agents_percentage_home.csv\", index=False)"
   ]
  },
  {
   "cell_type": "markdown",
   "metadata": {},
   "source": [
    "## Flow"
   ]
  },
  {
   "cell_type": "code",
   "execution_count": 90,
   "metadata": {},
   "outputs": [
    {
     "data": {
      "application/vnd.microsoft.datawrangler.viewer.v0+json": {
       "columns": [
        {
         "name": "index",
         "rawType": "int64",
         "type": "integer"
        },
        {
         "name": "date",
         "rawType": "datetime64[ns]",
         "type": "datetime"
        },
        {
         "name": "origin",
         "rawType": "int64",
         "type": "integer"
        },
        {
         "name": "destination",
         "rawType": "int64",
         "type": "integer"
        },
        {
         "name": "flow_ratio",
         "rawType": "float64",
         "type": "float"
        }
       ],
       "conversionMethod": "pd.DataFrame",
       "ref": "a6d55d35-f6e9-4f62-ac44-6f2afdea620b",
       "rows": [
        [
         "0",
         "2019-01-07 00:00:00",
         "53033000100",
         "53033000100",
         "0.9412746079412746"
        ],
        [
         "1",
         "2019-01-07 00:00:00",
         "53033000100",
         "53033000200",
         "0.035035035035035036"
        ],
        [
         "2",
         "2019-01-07 00:00:00",
         "53033000100",
         "53033000300",
         "0.004337671004337671"
        ],
        [
         "3",
         "2019-01-07 00:00:00",
         "53033000100",
         "53033000401",
         "0.012012012012012012"
        ],
        [
         "4",
         "2019-01-07 00:00:00",
         "53033000100",
         "53033000402",
         "0.006339673006339673"
        ]
       ],
       "shape": {
        "columns": 4,
        "rows": 5
       }
      },
      "text/html": [
       "<div>\n",
       "<style scoped>\n",
       "    .dataframe tbody tr th:only-of-type {\n",
       "        vertical-align: middle;\n",
       "    }\n",
       "\n",
       "    .dataframe tbody tr th {\n",
       "        vertical-align: top;\n",
       "    }\n",
       "\n",
       "    .dataframe thead th {\n",
       "        text-align: right;\n",
       "    }\n",
       "</style>\n",
       "<table border=\"1\" class=\"dataframe\">\n",
       "  <thead>\n",
       "    <tr style=\"text-align: right;\">\n",
       "      <th></th>\n",
       "      <th>date</th>\n",
       "      <th>origin</th>\n",
       "      <th>destination</th>\n",
       "      <th>flow_ratio</th>\n",
       "    </tr>\n",
       "  </thead>\n",
       "  <tbody>\n",
       "    <tr>\n",
       "      <th>0</th>\n",
       "      <td>2019-01-07</td>\n",
       "      <td>53033000100</td>\n",
       "      <td>53033000100</td>\n",
       "      <td>0.941275</td>\n",
       "    </tr>\n",
       "    <tr>\n",
       "      <th>1</th>\n",
       "      <td>2019-01-07</td>\n",
       "      <td>53033000100</td>\n",
       "      <td>53033000200</td>\n",
       "      <td>0.035035</td>\n",
       "    </tr>\n",
       "    <tr>\n",
       "      <th>2</th>\n",
       "      <td>2019-01-07</td>\n",
       "      <td>53033000100</td>\n",
       "      <td>53033000300</td>\n",
       "      <td>0.004338</td>\n",
       "    </tr>\n",
       "    <tr>\n",
       "      <th>3</th>\n",
       "      <td>2019-01-07</td>\n",
       "      <td>53033000100</td>\n",
       "      <td>53033000401</td>\n",
       "      <td>0.012012</td>\n",
       "    </tr>\n",
       "    <tr>\n",
       "      <th>4</th>\n",
       "      <td>2019-01-07</td>\n",
       "      <td>53033000100</td>\n",
       "      <td>53033000402</td>\n",
       "      <td>0.006340</td>\n",
       "    </tr>\n",
       "  </tbody>\n",
       "</table>\n",
       "</div>"
      ],
      "text/plain": [
       "        date       origin  destination  flow_ratio\n",
       "0 2019-01-07  53033000100  53033000100    0.941275\n",
       "1 2019-01-07  53033000100  53033000200    0.035035\n",
       "2 2019-01-07  53033000100  53033000300    0.004338\n",
       "3 2019-01-07  53033000100  53033000401    0.012012\n",
       "4 2019-01-07  53033000100  53033000402    0.006340"
      ]
     },
     "execution_count": 90,
     "metadata": {},
     "output_type": "execute_result"
    }
   ],
   "source": [
    "agents_flow = (\n",
    "  devices_flow\n",
    "  .loc[:, ['date', 'origin', 'destination', 'flow_ratio']]\n",
    "  .sort_values(['date', 'origin', 'destination'])\n",
    ")\n",
    "agents_flow.head()"
   ]
  },
  {
   "cell_type": "code",
   "execution_count": 98,
   "metadata": {},
   "outputs": [],
   "source": [
    "flow_path = data_path / \"flow\"\n",
    "flow_path.mkdir(exist_ok=True)\n",
    "for name, group in agents_flow.groupby(\"date\"):\n",
    "  date = name.strftime('%Y-%m-%d')\n",
    "  group.drop(columns=\"date\").to_csv(flow_path / f'agents_flow_{date}.csv', index=False)"
   ]
  }
 ],
 "metadata": {
  "kernelspec": {
   "display_name": "ds-geo",
   "language": "python",
   "name": "python3"
  },
  "language_info": {
   "codemirror_mode": {
    "name": "ipython",
    "version": 3
   },
   "file_extension": ".py",
   "mimetype": "text/x-python",
   "name": "python",
   "nbconvert_exporter": "python",
   "pygments_lexer": "ipython3",
   "version": "3.12.7"
  }
 },
 "nbformat": 4,
 "nbformat_minor": 2
}
