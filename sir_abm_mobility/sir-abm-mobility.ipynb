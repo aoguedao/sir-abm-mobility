{
 "cells": [
  {
   "cell_type": "code",
   "execution_count": 1,
   "metadata": {},
   "outputs": [],
   "source": [
    "import numpy as np\n",
    "import matplotlib.pyplot as plt\n",
    "import pandas as pd\n",
    "import geopandas as gpd\n",
    "\n",
    "import mesa\n",
    "import mesa_geo as mg\n",
    "import mesa_geo.visualization as mgv\n",
    "\n",
    "from pathlib import Path\n",
    "\n",
    "from model import GeoSIR\n",
    "from utils import InfecStatus\n",
    "\n",
    "# from model import GeoSIR\n",
    "# from agents import PersonAgent, TractAgent\n",
    "# from utils import TimeBlock, Decision, InfecStatus\n",
    "\n",
    "# %load_ext autoreload\n",
    "# %autoreload 2"
   ]
  },
  {
   "cell_type": "code",
   "execution_count": 2,
   "metadata": {},
   "outputs": [],
   "source": [
    "data_path = Path().resolve() / 'data'\n",
    "images_path = Path().resolve() / 'images'\n",
    "images_path.mkdir(exist_ok=True)\n",
    "flow_path = data_path / 'flow'"
   ]
  },
  {
   "cell_type": "code",
   "execution_count": 3,
   "metadata": {},
   "outputs": [],
   "source": [
    "tracts_df = gpd.read_file(data_path / 'tracts.shp').to_crs(epsg=3857)\n",
    "agents_tract_df = pd.read_csv(data_path / 'agents_tract.csv')\n",
    "prob_stay_at_home_data = (\n",
    "  pd.read_csv(\n",
    "    data_path / 'agents_home.csv',\n",
    "    parse_dates=['date'],\n",
    "    date_format='%Y-%m-%d'\n",
    "  )\n",
    "  .assign(date=lambda x: x['date'].dt.date)\n",
    "  .set_index(['date', 'tract'])\n",
    "  .squeeze()\n",
    ")\n",
    "percentage_time_at_home_data = (\n",
    "  pd.read_csv(\n",
    "    data_path / 'agents_percentage_home.csv',\n",
    "    parse_dates=['date'],\n",
    "    date_format='%Y-%m-%d'\n",
    "  )\n",
    "  .assign(\n",
    "    date=lambda x: x['date'].dt.date,\n",
    "    percentage_time_home=lambda x: x['percentage_time_home'] / 100\n",
    "  )\n",
    "  .set_index(['date', 'tract'])\n",
    "  .squeeze()\n",
    ")"
   ]
  },
  {
   "cell_type": "code",
   "execution_count": 4,
   "metadata": {},
   "outputs": [
    {
     "name": "stdout",
     "output_type": "stream",
     "text": [
      "Initializing Time\n",
      "Initializing Tracts\n",
      "Initializing Population\n",
      "Model ready!\n"
     ]
    }
   ],
   "source": [
    "# Model\n",
    "infection_params = {\n",
    "  'beta': 0.5,\n",
    "  'gamma': 1 / 7\n",
    "}\n",
    "initial_condition = {\n",
    "  InfecStatus.S: 0.99,\n",
    "  InfecStatus.I: 0.01,\n",
    "  InfecStatus.R: 0.00\n",
    "}\n",
    "exposure_distance = 100\n",
    "avg_trips = 2.6\n",
    "model = GeoSIR(\n",
    "  infection_params=infection_params,\n",
    "  initial_condition=initial_condition,\n",
    "  exposure_distance=exposure_distance,\n",
    "  avg_trips=avg_trips,\n",
    "  tracts_df=tracts_df,\n",
    "  agents_tract_df=agents_tract_df,\n",
    "  prob_stay_at_home_data=prob_stay_at_home_data,\n",
    "  percentage_time_at_home_data=percentage_time_at_home_data,\n",
    "  flow_path=flow_path,\n",
    "  seed=42\n",
    ")"
   ]
  },
  {
   "cell_type": "code",
   "execution_count": 5,
   "metadata": {},
   "outputs": [
    {
     "name": "stdout",
     "output_type": "stream",
     "text": [
      "step 1\n",
      "step 2\n",
      "step 3\n",
      "step 4\n",
      "step 5\n",
      "step 6\n",
      "step 7\n",
      "step 8\n",
      "step 9\n",
      "step 10\n",
      "step 11\n",
      "step 12\n",
      "step 13\n",
      "step 14\n",
      "step 15\n",
      "step 16\n",
      "step 17\n",
      "step 18\n",
      "step 19\n",
      "step 20\n",
      "step 21\n",
      "step 22\n",
      "step 23\n",
      "step 24\n",
      "step 25\n",
      "step 26\n",
      "step 27\n",
      "step 28\n",
      "step 29\n",
      "step 30\n"
     ]
    }
   ],
   "source": [
    "for _ in range(30):\n",
    "  model.step()"
   ]
  },
  {
   "cell_type": "code",
   "execution_count": 6,
   "metadata": {},
   "outputs": [
    {
     "data": {
      "application/vnd.microsoft.datawrangler.viewer.v0+json": {
       "columns": [
        {
         "name": "index",
         "rawType": "int64",
         "type": "integer"
        },
        {
         "name": "date",
         "rawType": "object",
         "type": "unknown"
        },
        {
         "name": "time_block",
         "rawType": "int64",
         "type": "integer"
        },
        {
         "name": "S",
         "rawType": "int64",
         "type": "integer"
        },
        {
         "name": "I",
         "rawType": "int64",
         "type": "integer"
        },
        {
         "name": "R",
         "rawType": "int64",
         "type": "integer"
        }
       ],
       "conversionMethod": "pd.DataFrame",
       "ref": "0838ae0d-f34c-4c2c-8b5c-198e8b7be76c",
       "rows": [
        [
         "0",
         "2019-01-07",
         "1",
         "10323",
         "119",
         "0"
        ],
        [
         "1",
         "2019-01-07",
         "2",
         "10319",
         "123",
         "0"
        ],
        [
         "2",
         "2019-01-07",
         "3",
         "10316",
         "126",
         "0"
        ],
        [
         "3",
         "2019-01-08",
         "1",
         "10275",
         "167",
         "0"
        ],
        [
         "4",
         "2019-01-08",
         "2",
         "10260",
         "182",
         "0"
        ],
        [
         "5",
         "2019-01-08",
         "3",
         "10247",
         "84",
         "111"
        ],
        [
         "6",
         "2019-01-09",
         "1",
         "10195",
         "124",
         "123"
        ],
        [
         "7",
         "2019-01-09",
         "2",
         "10169",
         "147",
         "126"
        ],
        [
         "8",
         "2019-01-09",
         "3",
         "10153",
         "144",
         "145"
        ],
        [
         "9",
         "2019-01-10",
         "1",
         "10085",
         "175",
         "182"
        ],
        [
         "10",
         "2019-01-10",
         "2",
         "10065",
         "182",
         "195"
        ],
        [
         "11",
         "2019-01-10",
         "3",
         "10042",
         "190",
         "210"
        ],
        [
         "12",
         "2019-01-11",
         "1",
         "9978",
         "191",
         "273"
        ],
        [
         "13",
         "2019-01-11",
         "2",
         "9958",
         "195",
         "289"
        ],
        [
         "14",
         "2019-01-11",
         "3",
         "9942",
         "184",
         "316"
        ],
        [
         "15",
         "2019-01-12",
         "1",
         "9878",
         "187",
         "377"
        ],
        [
         "16",
         "2019-01-12",
         "2",
         "9853",
         "189",
         "400"
        ],
        [
         "17",
         "2019-01-12",
         "3",
         "9831",
         "187",
         "424"
        ],
        [
         "18",
         "2019-01-13",
         "1",
         "9790",
         "168",
         "484"
        ],
        [
         "19",
         "2019-01-13",
         "2",
         "9777",
         "165",
         "500"
        ],
        [
         "20",
         "2019-01-13",
         "3",
         "9763",
         "150",
         "529"
        ],
        [
         "21",
         "2019-01-14",
         "1",
         "9745",
         "108",
         "589"
        ],
        [
         "22",
         "2019-01-14",
         "2",
         "9741",
         "90",
         "611"
        ],
        [
         "23",
         "2019-01-14",
         "3",
         "9738",
         "83",
         "621"
        ],
        [
         "24",
         "2019-01-15",
         "1",
         "9735",
         "42",
         "665"
        ],
        [
         "25",
         "2019-01-15",
         "2",
         "9733",
         "30",
         "679"
        ],
        [
         "26",
         "2019-01-15",
         "3",
         "9731",
         "24",
         "687"
        ],
        [
         "27",
         "2019-01-16",
         "1",
         "9729",
         "12",
         "701"
        ],
        [
         "28",
         "2019-01-16",
         "2",
         "9726",
         "12",
         "704"
        ],
        [
         "29",
         "2019-01-16",
         "3",
         "9725",
         "12",
         "705"
        ]
       ],
       "shape": {
        "columns": 5,
        "rows": 30
       }
      },
      "text/html": [
       "<div>\n",
       "<style scoped>\n",
       "    .dataframe tbody tr th:only-of-type {\n",
       "        vertical-align: middle;\n",
       "    }\n",
       "\n",
       "    .dataframe tbody tr th {\n",
       "        vertical-align: top;\n",
       "    }\n",
       "\n",
       "    .dataframe thead th {\n",
       "        text-align: right;\n",
       "    }\n",
       "</style>\n",
       "<table border=\"1\" class=\"dataframe\">\n",
       "  <thead>\n",
       "    <tr style=\"text-align: right;\">\n",
       "      <th></th>\n",
       "      <th>date</th>\n",
       "      <th>time_block</th>\n",
       "      <th>S</th>\n",
       "      <th>I</th>\n",
       "      <th>R</th>\n",
       "    </tr>\n",
       "  </thead>\n",
       "  <tbody>\n",
       "    <tr>\n",
       "      <th>0</th>\n",
       "      <td>2019-01-07</td>\n",
       "      <td>1</td>\n",
       "      <td>10323</td>\n",
       "      <td>119</td>\n",
       "      <td>0</td>\n",
       "    </tr>\n",
       "    <tr>\n",
       "      <th>1</th>\n",
       "      <td>2019-01-07</td>\n",
       "      <td>2</td>\n",
       "      <td>10319</td>\n",
       "      <td>123</td>\n",
       "      <td>0</td>\n",
       "    </tr>\n",
       "    <tr>\n",
       "      <th>2</th>\n",
       "      <td>2019-01-07</td>\n",
       "      <td>3</td>\n",
       "      <td>10316</td>\n",
       "      <td>126</td>\n",
       "      <td>0</td>\n",
       "    </tr>\n",
       "    <tr>\n",
       "      <th>3</th>\n",
       "      <td>2019-01-08</td>\n",
       "      <td>1</td>\n",
       "      <td>10275</td>\n",
       "      <td>167</td>\n",
       "      <td>0</td>\n",
       "    </tr>\n",
       "    <tr>\n",
       "      <th>4</th>\n",
       "      <td>2019-01-08</td>\n",
       "      <td>2</td>\n",
       "      <td>10260</td>\n",
       "      <td>182</td>\n",
       "      <td>0</td>\n",
       "    </tr>\n",
       "    <tr>\n",
       "      <th>5</th>\n",
       "      <td>2019-01-08</td>\n",
       "      <td>3</td>\n",
       "      <td>10247</td>\n",
       "      <td>84</td>\n",
       "      <td>111</td>\n",
       "    </tr>\n",
       "    <tr>\n",
       "      <th>6</th>\n",
       "      <td>2019-01-09</td>\n",
       "      <td>1</td>\n",
       "      <td>10195</td>\n",
       "      <td>124</td>\n",
       "      <td>123</td>\n",
       "    </tr>\n",
       "    <tr>\n",
       "      <th>7</th>\n",
       "      <td>2019-01-09</td>\n",
       "      <td>2</td>\n",
       "      <td>10169</td>\n",
       "      <td>147</td>\n",
       "      <td>126</td>\n",
       "    </tr>\n",
       "    <tr>\n",
       "      <th>8</th>\n",
       "      <td>2019-01-09</td>\n",
       "      <td>3</td>\n",
       "      <td>10153</td>\n",
       "      <td>144</td>\n",
       "      <td>145</td>\n",
       "    </tr>\n",
       "    <tr>\n",
       "      <th>9</th>\n",
       "      <td>2019-01-10</td>\n",
       "      <td>1</td>\n",
       "      <td>10085</td>\n",
       "      <td>175</td>\n",
       "      <td>182</td>\n",
       "    </tr>\n",
       "    <tr>\n",
       "      <th>10</th>\n",
       "      <td>2019-01-10</td>\n",
       "      <td>2</td>\n",
       "      <td>10065</td>\n",
       "      <td>182</td>\n",
       "      <td>195</td>\n",
       "    </tr>\n",
       "    <tr>\n",
       "      <th>11</th>\n",
       "      <td>2019-01-10</td>\n",
       "      <td>3</td>\n",
       "      <td>10042</td>\n",
       "      <td>190</td>\n",
       "      <td>210</td>\n",
       "    </tr>\n",
       "    <tr>\n",
       "      <th>12</th>\n",
       "      <td>2019-01-11</td>\n",
       "      <td>1</td>\n",
       "      <td>9978</td>\n",
       "      <td>191</td>\n",
       "      <td>273</td>\n",
       "    </tr>\n",
       "    <tr>\n",
       "      <th>13</th>\n",
       "      <td>2019-01-11</td>\n",
       "      <td>2</td>\n",
       "      <td>9958</td>\n",
       "      <td>195</td>\n",
       "      <td>289</td>\n",
       "    </tr>\n",
       "    <tr>\n",
       "      <th>14</th>\n",
       "      <td>2019-01-11</td>\n",
       "      <td>3</td>\n",
       "      <td>9942</td>\n",
       "      <td>184</td>\n",
       "      <td>316</td>\n",
       "    </tr>\n",
       "    <tr>\n",
       "      <th>15</th>\n",
       "      <td>2019-01-12</td>\n",
       "      <td>1</td>\n",
       "      <td>9878</td>\n",
       "      <td>187</td>\n",
       "      <td>377</td>\n",
       "    </tr>\n",
       "    <tr>\n",
       "      <th>16</th>\n",
       "      <td>2019-01-12</td>\n",
       "      <td>2</td>\n",
       "      <td>9853</td>\n",
       "      <td>189</td>\n",
       "      <td>400</td>\n",
       "    </tr>\n",
       "    <tr>\n",
       "      <th>17</th>\n",
       "      <td>2019-01-12</td>\n",
       "      <td>3</td>\n",
       "      <td>9831</td>\n",
       "      <td>187</td>\n",
       "      <td>424</td>\n",
       "    </tr>\n",
       "    <tr>\n",
       "      <th>18</th>\n",
       "      <td>2019-01-13</td>\n",
       "      <td>1</td>\n",
       "      <td>9790</td>\n",
       "      <td>168</td>\n",
       "      <td>484</td>\n",
       "    </tr>\n",
       "    <tr>\n",
       "      <th>19</th>\n",
       "      <td>2019-01-13</td>\n",
       "      <td>2</td>\n",
       "      <td>9777</td>\n",
       "      <td>165</td>\n",
       "      <td>500</td>\n",
       "    </tr>\n",
       "    <tr>\n",
       "      <th>20</th>\n",
       "      <td>2019-01-13</td>\n",
       "      <td>3</td>\n",
       "      <td>9763</td>\n",
       "      <td>150</td>\n",
       "      <td>529</td>\n",
       "    </tr>\n",
       "    <tr>\n",
       "      <th>21</th>\n",
       "      <td>2019-01-14</td>\n",
       "      <td>1</td>\n",
       "      <td>9745</td>\n",
       "      <td>108</td>\n",
       "      <td>589</td>\n",
       "    </tr>\n",
       "    <tr>\n",
       "      <th>22</th>\n",
       "      <td>2019-01-14</td>\n",
       "      <td>2</td>\n",
       "      <td>9741</td>\n",
       "      <td>90</td>\n",
       "      <td>611</td>\n",
       "    </tr>\n",
       "    <tr>\n",
       "      <th>23</th>\n",
       "      <td>2019-01-14</td>\n",
       "      <td>3</td>\n",
       "      <td>9738</td>\n",
       "      <td>83</td>\n",
       "      <td>621</td>\n",
       "    </tr>\n",
       "    <tr>\n",
       "      <th>24</th>\n",
       "      <td>2019-01-15</td>\n",
       "      <td>1</td>\n",
       "      <td>9735</td>\n",
       "      <td>42</td>\n",
       "      <td>665</td>\n",
       "    </tr>\n",
       "    <tr>\n",
       "      <th>25</th>\n",
       "      <td>2019-01-15</td>\n",
       "      <td>2</td>\n",
       "      <td>9733</td>\n",
       "      <td>30</td>\n",
       "      <td>679</td>\n",
       "    </tr>\n",
       "    <tr>\n",
       "      <th>26</th>\n",
       "      <td>2019-01-15</td>\n",
       "      <td>3</td>\n",
       "      <td>9731</td>\n",
       "      <td>24</td>\n",
       "      <td>687</td>\n",
       "    </tr>\n",
       "    <tr>\n",
       "      <th>27</th>\n",
       "      <td>2019-01-16</td>\n",
       "      <td>1</td>\n",
       "      <td>9729</td>\n",
       "      <td>12</td>\n",
       "      <td>701</td>\n",
       "    </tr>\n",
       "    <tr>\n",
       "      <th>28</th>\n",
       "      <td>2019-01-16</td>\n",
       "      <td>2</td>\n",
       "      <td>9726</td>\n",
       "      <td>12</td>\n",
       "      <td>704</td>\n",
       "    </tr>\n",
       "    <tr>\n",
       "      <th>29</th>\n",
       "      <td>2019-01-16</td>\n",
       "      <td>3</td>\n",
       "      <td>9725</td>\n",
       "      <td>12</td>\n",
       "      <td>705</td>\n",
       "    </tr>\n",
       "  </tbody>\n",
       "</table>\n",
       "</div>"
      ],
      "text/plain": [
       "          date  time_block      S    I    R\n",
       "0   2019-01-07           1  10323  119    0\n",
       "1   2019-01-07           2  10319  123    0\n",
       "2   2019-01-07           3  10316  126    0\n",
       "3   2019-01-08           1  10275  167    0\n",
       "4   2019-01-08           2  10260  182    0\n",
       "5   2019-01-08           3  10247   84  111\n",
       "6   2019-01-09           1  10195  124  123\n",
       "7   2019-01-09           2  10169  147  126\n",
       "8   2019-01-09           3  10153  144  145\n",
       "9   2019-01-10           1  10085  175  182\n",
       "10  2019-01-10           2  10065  182  195\n",
       "11  2019-01-10           3  10042  190  210\n",
       "12  2019-01-11           1   9978  191  273\n",
       "13  2019-01-11           2   9958  195  289\n",
       "14  2019-01-11           3   9942  184  316\n",
       "15  2019-01-12           1   9878  187  377\n",
       "16  2019-01-12           2   9853  189  400\n",
       "17  2019-01-12           3   9831  187  424\n",
       "18  2019-01-13           1   9790  168  484\n",
       "19  2019-01-13           2   9777  165  500\n",
       "20  2019-01-13           3   9763  150  529\n",
       "21  2019-01-14           1   9745  108  589\n",
       "22  2019-01-14           2   9741   90  611\n",
       "23  2019-01-14           3   9738   83  621\n",
       "24  2019-01-15           1   9735   42  665\n",
       "25  2019-01-15           2   9733   30  679\n",
       "26  2019-01-15           3   9731   24  687\n",
       "27  2019-01-16           1   9729   12  701\n",
       "28  2019-01-16           2   9726   12  704\n",
       "29  2019-01-16           3   9725   12  705"
      ]
     },
     "execution_count": 6,
     "metadata": {},
     "output_type": "execute_result"
    }
   ],
   "source": [
    "model.datacollector.get_model_vars_dataframe()"
   ]
  },
  {
   "cell_type": "code",
   "execution_count": 8,
   "metadata": {},
   "outputs": [
    {
     "ename": "",
     "evalue": "",
     "output_type": "error",
     "traceback": [
      "\u001b[1;31mThe Kernel crashed while executing code in the current cell or a previous cell. \n",
      "\u001b[1;31mPlease review the code in the cell(s) to identify a possible cause of the failure. \n",
      "\u001b[1;31mClick <a href='https://aka.ms/vscodeJupyterKernelCrash'>here</a> for more info. \n",
      "\u001b[1;31mView Jupyter <a href='command:jupyter.viewOutput'>log</a> for further details."
     ]
    }
   ],
   "source": [
    "parameters = {\n",
    "  \"infection_params\": infection_params,\n",
    "  \"initial_condition\": initial_condition,\n",
    "  \"exposure_distance\": range(1, 4),\n",
    "  \"avg_trips\": avg_trips,\n",
    "  \"tracts_df\": tracts_df,\n",
    "  \"agents_tract_df\": agents_tract_df,\n",
    "  \"prob_stay_at_home_data\": prob_stay_at_home_data,\n",
    "  \"percentage_time_at_home_data\": percentage_time_at_home_data,\n",
    "  \"flow_path\": flow_path,\n",
    "}\n",
    "\n",
    "results = mesa.batch_run(\n",
    "    GeoSIR,\n",
    "    parameters,\n",
    "    iterations=5,\n",
    "    max_steps=100,\n",
    "    data_collection_period=1,\n",
    "    number_processes=3\n",
    ")"
   ]
  },
  {
   "cell_type": "code",
   "execution_count": null,
   "metadata": {},
   "outputs": [],
   "source": []
  },
  {
   "cell_type": "code",
   "execution_count": null,
   "metadata": {},
   "outputs": [],
   "source": [
    "infection_params=infection_params,\n",
    "initial_condition=initial_condition,\n",
    "exposure_distance=exposure_distance,\n",
    "avg_trips=avg_trips,\n",
    "tracts_df=tracts_df,\n",
    "agents_tract_df=agents_tract_df,\n",
    "prob_stay_at_home_data=prob_stay_at_home_data,\n",
    "percentage_time_at_home_data=percentage_time_at_home_data,\n",
    "flow_path=flow_path,\n",
    "seed=42"
   ]
  },
  {
   "cell_type": "code",
   "execution_count": null,
   "metadata": {},
   "outputs": [],
   "source": []
  },
  {
   "cell_type": "code",
   "execution_count": null,
   "metadata": {},
   "outputs": [],
   "source": []
  },
  {
   "cell_type": "code",
   "execution_count": null,
   "metadata": {},
   "outputs": [],
   "source": []
  },
  {
   "cell_type": "code",
   "execution_count": null,
   "metadata": {},
   "outputs": [],
   "source": [
    "model._agents_by_type[PersonAgent]"
   ]
  },
  {
   "cell_type": "code",
   "execution_count": null,
   "metadata": {},
   "outputs": [],
   "source": [
    "dir(model)"
   ]
  },
  {
   "cell_type": "code",
   "execution_count": null,
   "metadata": {},
   "outputs": [],
   "source": [
    "Decision['STAY_HOME']"
   ]
  },
  {
   "cell_type": "code",
   "execution_count": null,
   "metadata": {},
   "outputs": [],
   "source": [
    "model._agents_by_type[PersonAgent][0].decision"
   ]
  },
  {
   "cell_type": "code",
   "execution_count": null,
   "metadata": {},
   "outputs": [],
   "source": [
    "model.agent_types"
   ]
  },
  {
   "cell_type": "code",
   "execution_count": null,
   "metadata": {},
   "outputs": [],
   "source": [
    "model.datacollector.get_model_vars_dataframe()\n"
   ]
  },
  {
   "cell_type": "code",
   "execution_count": null,
   "metadata": {},
   "outputs": [],
   "source": [
    "model.counts"
   ]
  },
  {
   "cell_type": "code",
   "execution_count": null,
   "metadata": {},
   "outputs": [],
   "source": [
    "for klass, l in model._agents_by_type.items():\n",
    "  print(klass, len(l))"
   ]
  },
  {
   "cell_type": "code",
   "execution_count": null,
   "metadata": {},
   "outputs": [],
   "source": [
    "model._agents_by_type[PersonAgent]#.groupby('status').count()"
   ]
  },
  {
   "cell_type": "code",
   "execution_count": null,
   "metadata": {},
   "outputs": [],
   "source": [
    "model.flow_dates[-1:0]"
   ]
  },
  {
   "cell_type": "code",
   "execution_count": null,
   "metadata": {},
   "outputs": [],
   "source": [
    "model.time_block"
   ]
  },
  {
   "cell_type": "code",
   "execution_count": null,
   "metadata": {},
   "outputs": [],
   "source": [
    "model.time_block is TimeBlock.EVENING"
   ]
  },
  {
   "cell_type": "code",
   "execution_count": null,
   "metadata": {},
   "outputs": [],
   "source": [
    "type(model._agents_by_type[PersonAgent][0].geometry)"
   ]
  },
  {
   "cell_type": "code",
   "execution_count": null,
   "metadata": {},
   "outputs": [],
   "source": [
    "model._agents_by_type[PersonAgent][0].pos"
   ]
  },
  {
   "cell_type": "code",
   "execution_count": null,
   "metadata": {},
   "outputs": [],
   "source": [
    "model._agents_by_type[TractAgent][0].prob_stay_at_home"
   ]
  },
  {
   "cell_type": "code",
   "execution_count": null,
   "metadata": {},
   "outputs": [],
   "source": [
    "model.today"
   ]
  },
  {
   "cell_type": "markdown",
   "metadata": {},
   "source": []
  },
  {
   "cell_type": "code",
   "execution_count": null,
   "metadata": {},
   "outputs": [],
   "source": [
    "# (\n",
    "#   model.tracts_df.merge(\n",
    "#     model.agents_tract_df,\n",
    "#     how='left',\n",
    "#     on='tract',\n",
    "#     validate='1:1'\n",
    "#   )\n",
    "#   .rename(columns={'tract': 'code', 'n_agents': 'population'})\n",
    "# )"
   ]
  },
  {
   "cell_type": "code",
   "execution_count": null,
   "metadata": {},
   "outputs": [],
   "source": [
    "set(InfecStatus)"
   ]
  },
  {
   "cell_type": "code",
   "execution_count": null,
   "metadata": {},
   "outputs": [],
   "source": [
    "InfecStatus.S in InfecStatus"
   ]
  },
  {
   "cell_type": "code",
   "execution_count": null,
   "metadata": {},
   "outputs": [],
   "source": [
    "InfecStatus"
   ]
  },
  {
   "cell_type": "code",
   "execution_count": null,
   "metadata": {},
   "outputs": [],
   "source": [
    "InfecStatus.S in set(InfecStatus)"
   ]
  },
  {
   "cell_type": "code",
   "execution_count": null,
   "metadata": {},
   "outputs": [],
   "source": [
    "type(InfecStatus)"
   ]
  },
  {
   "cell_type": "code",
   "execution_count": null,
   "metadata": {},
   "outputs": [],
   "source": [
    "members = list(TimeBlock)"
   ]
  },
  {
   "cell_type": "code",
   "execution_count": null,
   "metadata": {},
   "outputs": [],
   "source": [
    "members.index(TimeBlock.MORNING)"
   ]
  },
  {
   "cell_type": "code",
   "execution_count": null,
   "metadata": {},
   "outputs": [],
   "source": [
    "counts = {\n",
    "      \"S\": 0,\n",
    "      \"I\": 0,\n",
    "      \"R\": 0,\n",
    "    }"
   ]
  },
  {
   "cell_type": "code",
   "execution_count": null,
   "metadata": {},
   "outputs": [],
   "source": [
    "InfecStatus.S in counts.keys()"
   ]
  },
  {
   "cell_type": "code",
   "execution_count": null,
   "metadata": {},
   "outputs": [],
   "source": [
    "counts = {status: 0 for status in InfecStatus}\n",
    "counts"
   ]
  },
  {
   "cell_type": "code",
   "execution_count": null,
   "metadata": {},
   "outputs": [],
   "source": [
    "counts.keys()"
   ]
  },
  {
   "cell_type": "code",
   "execution_count": null,
   "metadata": {},
   "outputs": [],
   "source": [
    "list(InfecStatus)"
   ]
  },
  {
   "cell_type": "code",
   "execution_count": null,
   "metadata": {},
   "outputs": [],
   "source": [
    "InfecStatus.__members__.values()"
   ]
  },
  {
   "cell_type": "code",
   "execution_count": null,
   "metadata": {},
   "outputs": [],
   "source": [
    "counts[InfecStatus.S]"
   ]
  },
  {
   "cell_type": "code",
   "execution_count": null,
   "metadata": {},
   "outputs": [],
   "source": [
    "print(InfecStatus.S in counts)"
   ]
  },
  {
   "cell_type": "code",
   "execution_count": null,
   "metadata": {},
   "outputs": [],
   "source": [
    "from enum import Flag, auto\n",
    "\n",
    "class InfecStatus(Flag):\n",
    "    S = auto()\n",
    "    I = auto()\n",
    "    R = auto()\n",
    "\n",
    "counts = {status: 0 for status in InfecStatus}\n",
    "print(counts[InfecStatus.S])  # Should work"
   ]
  },
  {
   "cell_type": "code",
   "execution_count": null,
   "metadata": {},
   "outputs": [],
   "source": [
    "model.prob_stay_at_home_data"
   ]
  },
  {
   "cell_type": "code",
   "execution_count": null,
   "metadata": {},
   "outputs": [],
   "source": [
    "model.today"
   ]
  },
  {
   "cell_type": "code",
   "execution_count": null,
   "metadata": {},
   "outputs": [],
   "source": [
    "model.prob_stay_at_home_data.index.dtype"
   ]
  },
  {
   "cell_type": "code",
   "execution_count": null,
   "metadata": {},
   "outputs": [],
   "source": [
    "my_date = percentage_time_at_home_data.index.get_level_values(0)[0]"
   ]
  },
  {
   "cell_type": "code",
   "execution_count": null,
   "metadata": {},
   "outputs": [],
   "source": [
    "model.prob_stay_at_home_data.loc[model.current_flow_date, 53033032326]"
   ]
  },
  {
   "cell_type": "code",
   "execution_count": null,
   "metadata": {},
   "outputs": [],
   "source": [
    "model.current_flow_date"
   ]
  },
  {
   "cell_type": "code",
   "execution_count": null,
   "metadata": {},
   "outputs": [],
   "source": [
    "model._agents_by_type[PersonAgent][0].tract_id"
   ]
  },
  {
   "cell_type": "code",
   "execution_count": null,
   "metadata": {},
   "outputs": [],
   "source": [
    "model.agents[1].prob_stay_at_home"
   ]
  },
  {
   "cell_type": "code",
   "execution_count": null,
   "metadata": {},
   "outputs": [],
   "source": [
    "np.random.rand()"
   ]
  },
  {
   "cell_type": "code",
   "execution_count": null,
   "metadata": {},
   "outputs": [],
   "source": []
  },
  {
   "cell_type": "code",
   "execution_count": null,
   "metadata": {},
   "outputs": [],
   "source": [
    "tract_id = 1\n",
    "tract = model.agents[tract_id]\n",
    "tract.prob_flow"
   ]
  },
  {
   "cell_type": "code",
   "execution_count": null,
   "metadata": {},
   "outputs": [],
   "source": [
    "model.random.choices(list(tract.prob_flow.keys()), weights=list(tract.prob_flow.values()))[0]"
   ]
  },
  {
   "cell_type": "code",
   "execution_count": null,
   "metadata": {},
   "outputs": [],
   "source": [
    "InfecStatus._member_names_"
   ]
  },
  {
   "cell_type": "code",
   "execution_count": null,
   "metadata": {},
   "outputs": [],
   "source": [
    "model.agents[1].geometry"
   ]
  },
  {
   "cell_type": "code",
   "execution_count": null,
   "metadata": {},
   "outputs": [],
   "source": [
    "gpd.GeoSeries(model.agents[1].geometry).sample_points(size=(1, 2)).iat[0]"
   ]
  },
  {
   "cell_type": "code",
   "execution_count": null,
   "metadata": {},
   "outputs": [],
   "source": []
  },
  {
   "cell_type": "code",
   "execution_count": null,
   "metadata": {},
   "outputs": [],
   "source": []
  },
  {
   "cell_type": "code",
   "execution_count": null,
   "metadata": {},
   "outputs": [],
   "source": [
    "model._agents"
   ]
  }
 ],
 "metadata": {
  "kernelspec": {
   "display_name": "ds-geo",
   "language": "python",
   "name": "python3"
  },
  "language_info": {
   "codemirror_mode": {
    "name": "ipython",
    "version": 3
   },
   "file_extension": ".py",
   "mimetype": "text/x-python",
   "name": "python",
   "nbconvert_exporter": "python",
   "pygments_lexer": "ipython3",
   "version": "3.12.7"
  }
 },
 "nbformat": 4,
 "nbformat_minor": 2
}
