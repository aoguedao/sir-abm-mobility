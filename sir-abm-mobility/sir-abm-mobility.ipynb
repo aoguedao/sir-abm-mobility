{
 "cells": [
  {
   "cell_type": "code",
   "execution_count": 1,
   "metadata": {},
   "outputs": [],
   "source": [
    "import numpy as np\n",
    "import matplotlib.pyplot as plt\n",
    "import pandas as pd\n",
    "import geopandas as gpd\n",
    "\n",
    "import mesa\n",
    "import mesa_geo as mg\n",
    "import mesa_geo.visualization as mgv\n",
    "\n",
    "from pathlib import Path\n",
    "\n",
    "from model import GeoSIR\n",
    "from utils import InfecStatus\n",
    "\n",
    "# from model import GeoSIR\n",
    "# from agents import PersonAgent, TractAgent\n",
    "# from utils import TimeBlock, Decision, InfecStatus\n",
    "\n",
    "# %load_ext autoreload\n",
    "# %autoreload 2"
   ]
  },
  {
   "cell_type": "code",
   "execution_count": 2,
   "metadata": {},
   "outputs": [],
   "source": [
    "data_path = Path().resolve() / 'data'\n",
    "images_path = Path().resolve() / 'images'\n",
    "images_path.mkdir(exist_ok=True)\n",
    "flow_path = data_path / 'flow'"
   ]
  },
  {
   "cell_type": "code",
   "execution_count": 3,
   "metadata": {},
   "outputs": [],
   "source": [
    "tracts_df = gpd.read_file(data_path / 'tracts.shp').to_crs(epsg=3857)\n",
    "agents_tract_df = pd.read_csv(data_path / 'agents_tract.csv')\n",
    "prob_stay_at_home_data = (\n",
    "  pd.read_csv(\n",
    "    data_path / 'agents_home.csv',\n",
    "    parse_dates=['date'],\n",
    "    date_format='%Y-%m-%d'\n",
    "  )\n",
    "  .assign(date=lambda x: x['date'].dt.date)\n",
    "  .set_index(['date', 'tract'])\n",
    "  .squeeze()\n",
    ")\n",
    "percentage_time_at_home_data = (\n",
    "  pd.read_csv(\n",
    "    data_path / 'agents_percentage_home.csv',\n",
    "    parse_dates=['date'],\n",
    "    date_format='%Y-%m-%d'\n",
    "  )\n",
    "  .assign(\n",
    "    date=lambda x: x['date'].dt.date,\n",
    "    percentage_time_home=lambda x: x['percentage_time_home'] / 100\n",
    "  )\n",
    "  .set_index(['date', 'tract'])\n",
    "  .squeeze()\n",
    ")"
   ]
  },
  {
   "cell_type": "code",
   "execution_count": 4,
   "metadata": {},
   "outputs": [
    {
     "name": "stdout",
     "output_type": "stream",
     "text": [
      "Initializing Time\n",
      "Initializing Tracts\n",
      "Initializing Population\n",
      "Model ready!\n"
     ]
    }
   ],
   "source": [
    "# Model\n",
    "infection_params = {\n",
    "  'beta': 0.5,\n",
    "  'gamma': 1/2\n",
    "}\n",
    "initial_condition = {\n",
    "  InfecStatus.S: 0.99,\n",
    "  InfecStatus.I: 0.01,\n",
    "  InfecStatus.R: 0.00\n",
    "}\n",
    "exposure_distance = 100\n",
    "model = GeoSIR(\n",
    "  infection_params=infection_params,\n",
    "  initial_condition=initial_condition,\n",
    "  exposure_distance=exposure_distance,\n",
    "  tracts_df=tracts_df,\n",
    "  agents_tract_df=agents_tract_df,\n",
    "  prob_stay_at_home_data=prob_stay_at_home_data,\n",
    "  percentage_time_at_home_data=percentage_time_at_home_data,\n",
    "  flow_path=flow_path,\n",
    "  seed=42\n",
    ")"
   ]
  },
  {
   "cell_type": "code",
   "execution_count": 5,
   "metadata": {},
   "outputs": [
    {
     "name": "stdout",
     "output_type": "stream",
     "text": [
      "step 1\n",
      "step 2\n",
      "step 3\n",
      "step 4\n",
      "step 5\n",
      "step 6\n",
      "step 7\n",
      "step 8\n",
      "step 9\n",
      "step 10\n",
      "step 11\n",
      "step 12\n",
      "step 13\n",
      "step 14\n",
      "step 15\n",
      "step 16\n",
      "step 17\n",
      "step 18\n",
      "step 19\n",
      "step 20\n",
      "step 21\n",
      "step 22\n",
      "step 23\n",
      "step 24\n",
      "step 25\n",
      "step 26\n",
      "step 27\n",
      "step 28\n",
      "step 29\n",
      "step 30\n"
     ]
    }
   ],
   "source": [
    "for _ in range(30):\n",
    "  model.step()"
   ]
  },
  {
   "cell_type": "code",
   "execution_count": 6,
   "metadata": {},
   "outputs": [
    {
     "data": {
      "application/vnd.microsoft.datawrangler.viewer.v0+json": {
       "columns": [
        {
         "name": "index",
         "rawType": "int64",
         "type": "integer"
        },
        {
         "name": "date",
         "rawType": "object",
         "type": "unknown"
        },
        {
         "name": "time_block",
         "rawType": "int64",
         "type": "integer"
        },
        {
         "name": "S",
         "rawType": "int64",
         "type": "integer"
        },
        {
         "name": "I",
         "rawType": "int64",
         "type": "integer"
        },
        {
         "name": "R",
         "rawType": "int64",
         "type": "integer"
        }
       ],
       "conversionMethod": "pd.DataFrame",
       "ref": "a823969b-0fde-4fda-9641-49de7ab861a4",
       "rows": [
        [
         "0",
         "2019-01-07",
         "1",
         "10320",
         "122",
         "0"
        ],
        [
         "1",
         "2019-01-07",
         "2",
         "10318",
         "124",
         "0"
        ],
        [
         "2",
         "2019-01-07",
         "3",
         "10310",
         "132",
         "0"
        ],
        [
         "3",
         "2019-01-08",
         "1",
         "10291",
         "151",
         "0"
        ],
        [
         "4",
         "2019-01-08",
         "2",
         "10280",
         "162",
         "0"
        ],
        [
         "5",
         "2019-01-08",
         "3",
         "10272",
         "59",
         "111"
        ],
        [
         "6",
         "2019-01-09",
         "1",
         "10248",
         "70",
         "124"
        ],
        [
         "7",
         "2019-01-09",
         "2",
         "10239",
         "71",
         "132"
        ],
        [
         "8",
         "2019-01-09",
         "3",
         "10231",
         "72",
         "139"
        ],
        [
         "9",
         "2019-01-10",
         "1",
         "10193",
         "87",
         "162"
        ],
        [
         "10",
         "2019-01-10",
         "2",
         "10172",
         "100",
         "170"
        ],
        [
         "11",
         "2019-01-10",
         "3",
         "10158",
         "110",
         "174"
        ],
        [
         "12",
         "2019-01-11",
         "1",
         "10105",
         "134",
         "203"
        ],
        [
         "13",
         "2019-01-11",
         "2",
         "10091",
         "140",
         "211"
        ],
        [
         "14",
         "2019-01-11",
         "3",
         "10080",
         "135",
         "227"
        ],
        [
         "15",
         "2019-01-12",
         "1",
         "10042",
         "130",
         "270"
        ],
        [
         "16",
         "2019-01-12",
         "2",
         "10019",
         "139",
         "284"
        ],
        [
         "17",
         "2019-01-12",
         "3",
         "10004",
         "138",
         "300"
        ],
        [
         "18",
         "2019-01-13",
         "1",
         "9969",
         "122",
         "351"
        ],
        [
         "19",
         "2019-01-13",
         "2",
         "9962",
         "118",
         "362"
        ],
        [
         "20",
         "2019-01-13",
         "3",
         "9950",
         "118",
         "374"
        ],
        [
         "21",
         "2019-01-14",
         "1",
         "9925",
         "94",
         "423"
        ],
        [
         "22",
         "2019-01-14",
         "2",
         "9913",
         "91",
         "438"
        ],
        [
         "23",
         "2019-01-14",
         "3",
         "9905",
         "84",
         "453"
        ],
        [
         "24",
         "2019-01-15",
         "1",
         "9877",
         "85",
         "480"
        ],
        [
         "25",
         "2019-01-15",
         "2",
         "9874",
         "76",
         "492"
        ],
        [
         "26",
         "2019-01-15",
         "3",
         "9872",
         "64",
         "506"
        ],
        [
         "27",
         "2019-01-16",
         "1",
         "9848",
         "65",
         "529"
        ],
        [
         "28",
         "2019-01-16",
         "2",
         "9839",
         "66",
         "537"
        ],
        [
         "29",
         "2019-01-16",
         "3",
         "9832",
         "70",
         "540"
        ]
       ],
       "shape": {
        "columns": 5,
        "rows": 30
       }
      },
      "text/html": [
       "<div>\n",
       "<style scoped>\n",
       "    .dataframe tbody tr th:only-of-type {\n",
       "        vertical-align: middle;\n",
       "    }\n",
       "\n",
       "    .dataframe tbody tr th {\n",
       "        vertical-align: top;\n",
       "    }\n",
       "\n",
       "    .dataframe thead th {\n",
       "        text-align: right;\n",
       "    }\n",
       "</style>\n",
       "<table border=\"1\" class=\"dataframe\">\n",
       "  <thead>\n",
       "    <tr style=\"text-align: right;\">\n",
       "      <th></th>\n",
       "      <th>date</th>\n",
       "      <th>time_block</th>\n",
       "      <th>S</th>\n",
       "      <th>I</th>\n",
       "      <th>R</th>\n",
       "    </tr>\n",
       "  </thead>\n",
       "  <tbody>\n",
       "    <tr>\n",
       "      <th>0</th>\n",
       "      <td>2019-01-07</td>\n",
       "      <td>1</td>\n",
       "      <td>10320</td>\n",
       "      <td>122</td>\n",
       "      <td>0</td>\n",
       "    </tr>\n",
       "    <tr>\n",
       "      <th>1</th>\n",
       "      <td>2019-01-07</td>\n",
       "      <td>2</td>\n",
       "      <td>10318</td>\n",
       "      <td>124</td>\n",
       "      <td>0</td>\n",
       "    </tr>\n",
       "    <tr>\n",
       "      <th>2</th>\n",
       "      <td>2019-01-07</td>\n",
       "      <td>3</td>\n",
       "      <td>10310</td>\n",
       "      <td>132</td>\n",
       "      <td>0</td>\n",
       "    </tr>\n",
       "    <tr>\n",
       "      <th>3</th>\n",
       "      <td>2019-01-08</td>\n",
       "      <td>1</td>\n",
       "      <td>10291</td>\n",
       "      <td>151</td>\n",
       "      <td>0</td>\n",
       "    </tr>\n",
       "    <tr>\n",
       "      <th>4</th>\n",
       "      <td>2019-01-08</td>\n",
       "      <td>2</td>\n",
       "      <td>10280</td>\n",
       "      <td>162</td>\n",
       "      <td>0</td>\n",
       "    </tr>\n",
       "    <tr>\n",
       "      <th>5</th>\n",
       "      <td>2019-01-08</td>\n",
       "      <td>3</td>\n",
       "      <td>10272</td>\n",
       "      <td>59</td>\n",
       "      <td>111</td>\n",
       "    </tr>\n",
       "    <tr>\n",
       "      <th>6</th>\n",
       "      <td>2019-01-09</td>\n",
       "      <td>1</td>\n",
       "      <td>10248</td>\n",
       "      <td>70</td>\n",
       "      <td>124</td>\n",
       "    </tr>\n",
       "    <tr>\n",
       "      <th>7</th>\n",
       "      <td>2019-01-09</td>\n",
       "      <td>2</td>\n",
       "      <td>10239</td>\n",
       "      <td>71</td>\n",
       "      <td>132</td>\n",
       "    </tr>\n",
       "    <tr>\n",
       "      <th>8</th>\n",
       "      <td>2019-01-09</td>\n",
       "      <td>3</td>\n",
       "      <td>10231</td>\n",
       "      <td>72</td>\n",
       "      <td>139</td>\n",
       "    </tr>\n",
       "    <tr>\n",
       "      <th>9</th>\n",
       "      <td>2019-01-10</td>\n",
       "      <td>1</td>\n",
       "      <td>10193</td>\n",
       "      <td>87</td>\n",
       "      <td>162</td>\n",
       "    </tr>\n",
       "    <tr>\n",
       "      <th>10</th>\n",
       "      <td>2019-01-10</td>\n",
       "      <td>2</td>\n",
       "      <td>10172</td>\n",
       "      <td>100</td>\n",
       "      <td>170</td>\n",
       "    </tr>\n",
       "    <tr>\n",
       "      <th>11</th>\n",
       "      <td>2019-01-10</td>\n",
       "      <td>3</td>\n",
       "      <td>10158</td>\n",
       "      <td>110</td>\n",
       "      <td>174</td>\n",
       "    </tr>\n",
       "    <tr>\n",
       "      <th>12</th>\n",
       "      <td>2019-01-11</td>\n",
       "      <td>1</td>\n",
       "      <td>10105</td>\n",
       "      <td>134</td>\n",
       "      <td>203</td>\n",
       "    </tr>\n",
       "    <tr>\n",
       "      <th>13</th>\n",
       "      <td>2019-01-11</td>\n",
       "      <td>2</td>\n",
       "      <td>10091</td>\n",
       "      <td>140</td>\n",
       "      <td>211</td>\n",
       "    </tr>\n",
       "    <tr>\n",
       "      <th>14</th>\n",
       "      <td>2019-01-11</td>\n",
       "      <td>3</td>\n",
       "      <td>10080</td>\n",
       "      <td>135</td>\n",
       "      <td>227</td>\n",
       "    </tr>\n",
       "    <tr>\n",
       "      <th>15</th>\n",
       "      <td>2019-01-12</td>\n",
       "      <td>1</td>\n",
       "      <td>10042</td>\n",
       "      <td>130</td>\n",
       "      <td>270</td>\n",
       "    </tr>\n",
       "    <tr>\n",
       "      <th>16</th>\n",
       "      <td>2019-01-12</td>\n",
       "      <td>2</td>\n",
       "      <td>10019</td>\n",
       "      <td>139</td>\n",
       "      <td>284</td>\n",
       "    </tr>\n",
       "    <tr>\n",
       "      <th>17</th>\n",
       "      <td>2019-01-12</td>\n",
       "      <td>3</td>\n",
       "      <td>10004</td>\n",
       "      <td>138</td>\n",
       "      <td>300</td>\n",
       "    </tr>\n",
       "    <tr>\n",
       "      <th>18</th>\n",
       "      <td>2019-01-13</td>\n",
       "      <td>1</td>\n",
       "      <td>9969</td>\n",
       "      <td>122</td>\n",
       "      <td>351</td>\n",
       "    </tr>\n",
       "    <tr>\n",
       "      <th>19</th>\n",
       "      <td>2019-01-13</td>\n",
       "      <td>2</td>\n",
       "      <td>9962</td>\n",
       "      <td>118</td>\n",
       "      <td>362</td>\n",
       "    </tr>\n",
       "    <tr>\n",
       "      <th>20</th>\n",
       "      <td>2019-01-13</td>\n",
       "      <td>3</td>\n",
       "      <td>9950</td>\n",
       "      <td>118</td>\n",
       "      <td>374</td>\n",
       "    </tr>\n",
       "    <tr>\n",
       "      <th>21</th>\n",
       "      <td>2019-01-14</td>\n",
       "      <td>1</td>\n",
       "      <td>9925</td>\n",
       "      <td>94</td>\n",
       "      <td>423</td>\n",
       "    </tr>\n",
       "    <tr>\n",
       "      <th>22</th>\n",
       "      <td>2019-01-14</td>\n",
       "      <td>2</td>\n",
       "      <td>9913</td>\n",
       "      <td>91</td>\n",
       "      <td>438</td>\n",
       "    </tr>\n",
       "    <tr>\n",
       "      <th>23</th>\n",
       "      <td>2019-01-14</td>\n",
       "      <td>3</td>\n",
       "      <td>9905</td>\n",
       "      <td>84</td>\n",
       "      <td>453</td>\n",
       "    </tr>\n",
       "    <tr>\n",
       "      <th>24</th>\n",
       "      <td>2019-01-15</td>\n",
       "      <td>1</td>\n",
       "      <td>9877</td>\n",
       "      <td>85</td>\n",
       "      <td>480</td>\n",
       "    </tr>\n",
       "    <tr>\n",
       "      <th>25</th>\n",
       "      <td>2019-01-15</td>\n",
       "      <td>2</td>\n",
       "      <td>9874</td>\n",
       "      <td>76</td>\n",
       "      <td>492</td>\n",
       "    </tr>\n",
       "    <tr>\n",
       "      <th>26</th>\n",
       "      <td>2019-01-15</td>\n",
       "      <td>3</td>\n",
       "      <td>9872</td>\n",
       "      <td>64</td>\n",
       "      <td>506</td>\n",
       "    </tr>\n",
       "    <tr>\n",
       "      <th>27</th>\n",
       "      <td>2019-01-16</td>\n",
       "      <td>1</td>\n",
       "      <td>9848</td>\n",
       "      <td>65</td>\n",
       "      <td>529</td>\n",
       "    </tr>\n",
       "    <tr>\n",
       "      <th>28</th>\n",
       "      <td>2019-01-16</td>\n",
       "      <td>2</td>\n",
       "      <td>9839</td>\n",
       "      <td>66</td>\n",
       "      <td>537</td>\n",
       "    </tr>\n",
       "    <tr>\n",
       "      <th>29</th>\n",
       "      <td>2019-01-16</td>\n",
       "      <td>3</td>\n",
       "      <td>9832</td>\n",
       "      <td>70</td>\n",
       "      <td>540</td>\n",
       "    </tr>\n",
       "  </tbody>\n",
       "</table>\n",
       "</div>"
      ],
      "text/plain": [
       "          date  time_block      S    I    R\n",
       "0   2019-01-07           1  10320  122    0\n",
       "1   2019-01-07           2  10318  124    0\n",
       "2   2019-01-07           3  10310  132    0\n",
       "3   2019-01-08           1  10291  151    0\n",
       "4   2019-01-08           2  10280  162    0\n",
       "5   2019-01-08           3  10272   59  111\n",
       "6   2019-01-09           1  10248   70  124\n",
       "7   2019-01-09           2  10239   71  132\n",
       "8   2019-01-09           3  10231   72  139\n",
       "9   2019-01-10           1  10193   87  162\n",
       "10  2019-01-10           2  10172  100  170\n",
       "11  2019-01-10           3  10158  110  174\n",
       "12  2019-01-11           1  10105  134  203\n",
       "13  2019-01-11           2  10091  140  211\n",
       "14  2019-01-11           3  10080  135  227\n",
       "15  2019-01-12           1  10042  130  270\n",
       "16  2019-01-12           2  10019  139  284\n",
       "17  2019-01-12           3  10004  138  300\n",
       "18  2019-01-13           1   9969  122  351\n",
       "19  2019-01-13           2   9962  118  362\n",
       "20  2019-01-13           3   9950  118  374\n",
       "21  2019-01-14           1   9925   94  423\n",
       "22  2019-01-14           2   9913   91  438\n",
       "23  2019-01-14           3   9905   84  453\n",
       "24  2019-01-15           1   9877   85  480\n",
       "25  2019-01-15           2   9874   76  492\n",
       "26  2019-01-15           3   9872   64  506\n",
       "27  2019-01-16           1   9848   65  529\n",
       "28  2019-01-16           2   9839   66  537\n",
       "29  2019-01-16           3   9832   70  540"
      ]
     },
     "execution_count": 6,
     "metadata": {},
     "output_type": "execute_result"
    }
   ],
   "source": [
    "model.datacollector.get_model_vars_dataframe()"
   ]
  },
  {
   "cell_type": "code",
   "execution_count": null,
   "metadata": {},
   "outputs": [],
   "source": []
  },
  {
   "cell_type": "code",
   "execution_count": null,
   "metadata": {},
   "outputs": [],
   "source": []
  },
  {
   "cell_type": "code",
   "execution_count": null,
   "metadata": {},
   "outputs": [],
   "source": []
  },
  {
   "cell_type": "code",
   "execution_count": null,
   "metadata": {},
   "outputs": [],
   "source": []
  },
  {
   "cell_type": "code",
   "execution_count": null,
   "metadata": {},
   "outputs": [],
   "source": []
  },
  {
   "cell_type": "code",
   "execution_count": null,
   "metadata": {},
   "outputs": [],
   "source": []
  },
  {
   "cell_type": "code",
   "execution_count": null,
   "metadata": {},
   "outputs": [],
   "source": [
    "model._agents_by_type[PersonAgent]"
   ]
  },
  {
   "cell_type": "code",
   "execution_count": null,
   "metadata": {},
   "outputs": [],
   "source": [
    "dir(model)"
   ]
  },
  {
   "cell_type": "code",
   "execution_count": null,
   "metadata": {},
   "outputs": [],
   "source": [
    "Decision['STAY_HOME']"
   ]
  },
  {
   "cell_type": "code",
   "execution_count": null,
   "metadata": {},
   "outputs": [],
   "source": [
    "model._agents_by_type[PersonAgent][0].decision"
   ]
  },
  {
   "cell_type": "code",
   "execution_count": null,
   "metadata": {},
   "outputs": [],
   "source": [
    "model.agent_types"
   ]
  },
  {
   "cell_type": "code",
   "execution_count": null,
   "metadata": {},
   "outputs": [],
   "source": [
    "model.datacollector.get_model_vars_dataframe()\n"
   ]
  },
  {
   "cell_type": "code",
   "execution_count": null,
   "metadata": {},
   "outputs": [],
   "source": [
    "model.counts"
   ]
  },
  {
   "cell_type": "code",
   "execution_count": null,
   "metadata": {},
   "outputs": [],
   "source": [
    "for klass, l in model._agents_by_type.items():\n",
    "  print(klass, len(l))"
   ]
  },
  {
   "cell_type": "code",
   "execution_count": null,
   "metadata": {},
   "outputs": [],
   "source": [
    "model._agents_by_type[PersonAgent]#.groupby('status').count()"
   ]
  },
  {
   "cell_type": "code",
   "execution_count": null,
   "metadata": {},
   "outputs": [],
   "source": [
    "model.flow_dates[-1:0]"
   ]
  },
  {
   "cell_type": "code",
   "execution_count": null,
   "metadata": {},
   "outputs": [],
   "source": [
    "model.time_block"
   ]
  },
  {
   "cell_type": "code",
   "execution_count": null,
   "metadata": {},
   "outputs": [],
   "source": [
    "model.time_block is TimeBlock.EVENING"
   ]
  },
  {
   "cell_type": "code",
   "execution_count": null,
   "metadata": {},
   "outputs": [],
   "source": [
    "type(model._agents_by_type[PersonAgent][0].geometry)"
   ]
  },
  {
   "cell_type": "code",
   "execution_count": null,
   "metadata": {},
   "outputs": [],
   "source": [
    "model._agents_by_type[PersonAgent][0].pos"
   ]
  },
  {
   "cell_type": "code",
   "execution_count": null,
   "metadata": {},
   "outputs": [],
   "source": [
    "model._agents_by_type[TractAgent][0].prob_stay_at_home"
   ]
  },
  {
   "cell_type": "code",
   "execution_count": null,
   "metadata": {},
   "outputs": [],
   "source": [
    "model.today"
   ]
  },
  {
   "cell_type": "markdown",
   "metadata": {},
   "source": []
  },
  {
   "cell_type": "code",
   "execution_count": null,
   "metadata": {},
   "outputs": [],
   "source": [
    "# (\n",
    "#   model.tracts_df.merge(\n",
    "#     model.agents_tract_df,\n",
    "#     how='left',\n",
    "#     on='tract',\n",
    "#     validate='1:1'\n",
    "#   )\n",
    "#   .rename(columns={'tract': 'code', 'n_agents': 'population'})\n",
    "# )"
   ]
  },
  {
   "cell_type": "code",
   "execution_count": null,
   "metadata": {},
   "outputs": [],
   "source": [
    "set(InfecStatus)"
   ]
  },
  {
   "cell_type": "code",
   "execution_count": null,
   "metadata": {},
   "outputs": [],
   "source": [
    "InfecStatus.S in InfecStatus"
   ]
  },
  {
   "cell_type": "code",
   "execution_count": null,
   "metadata": {},
   "outputs": [],
   "source": [
    "InfecStatus"
   ]
  },
  {
   "cell_type": "code",
   "execution_count": null,
   "metadata": {},
   "outputs": [],
   "source": [
    "InfecStatus.S in set(InfecStatus)"
   ]
  },
  {
   "cell_type": "code",
   "execution_count": null,
   "metadata": {},
   "outputs": [],
   "source": [
    "type(InfecStatus)"
   ]
  },
  {
   "cell_type": "code",
   "execution_count": null,
   "metadata": {},
   "outputs": [],
   "source": [
    "members = list(TimeBlock)"
   ]
  },
  {
   "cell_type": "code",
   "execution_count": null,
   "metadata": {},
   "outputs": [],
   "source": [
    "members.index(TimeBlock.MORNING)"
   ]
  },
  {
   "cell_type": "code",
   "execution_count": null,
   "metadata": {},
   "outputs": [],
   "source": [
    "counts = {\n",
    "      \"S\": 0,\n",
    "      \"I\": 0,\n",
    "      \"R\": 0,\n",
    "    }"
   ]
  },
  {
   "cell_type": "code",
   "execution_count": null,
   "metadata": {},
   "outputs": [],
   "source": [
    "InfecStatus.S in counts.keys()"
   ]
  },
  {
   "cell_type": "code",
   "execution_count": null,
   "metadata": {},
   "outputs": [],
   "source": [
    "counts = {status: 0 for status in InfecStatus}\n",
    "counts"
   ]
  },
  {
   "cell_type": "code",
   "execution_count": null,
   "metadata": {},
   "outputs": [],
   "source": [
    "counts.keys()"
   ]
  },
  {
   "cell_type": "code",
   "execution_count": null,
   "metadata": {},
   "outputs": [],
   "source": [
    "list(InfecStatus)"
   ]
  },
  {
   "cell_type": "code",
   "execution_count": null,
   "metadata": {},
   "outputs": [],
   "source": [
    "InfecStatus.__members__.values()"
   ]
  },
  {
   "cell_type": "code",
   "execution_count": null,
   "metadata": {},
   "outputs": [],
   "source": [
    "counts[InfecStatus.S]"
   ]
  },
  {
   "cell_type": "code",
   "execution_count": null,
   "metadata": {},
   "outputs": [],
   "source": [
    "print(InfecStatus.S in counts)"
   ]
  },
  {
   "cell_type": "code",
   "execution_count": null,
   "metadata": {},
   "outputs": [],
   "source": [
    "from enum import Flag, auto\n",
    "\n",
    "class InfecStatus(Flag):\n",
    "    S = auto()\n",
    "    I = auto()\n",
    "    R = auto()\n",
    "\n",
    "counts = {status: 0 for status in InfecStatus}\n",
    "print(counts[InfecStatus.S])  # Should work"
   ]
  },
  {
   "cell_type": "code",
   "execution_count": null,
   "metadata": {},
   "outputs": [],
   "source": [
    "model.prob_stay_at_home_data"
   ]
  },
  {
   "cell_type": "code",
   "execution_count": null,
   "metadata": {},
   "outputs": [],
   "source": [
    "model.today"
   ]
  },
  {
   "cell_type": "code",
   "execution_count": null,
   "metadata": {},
   "outputs": [],
   "source": [
    "model.prob_stay_at_home_data.index.dtype"
   ]
  },
  {
   "cell_type": "code",
   "execution_count": null,
   "metadata": {},
   "outputs": [],
   "source": [
    "my_date = percentage_time_at_home_data.index.get_level_values(0)[0]"
   ]
  },
  {
   "cell_type": "code",
   "execution_count": null,
   "metadata": {},
   "outputs": [],
   "source": [
    "model.prob_stay_at_home_data.loc[model.current_flow_date, 53033032326]"
   ]
  },
  {
   "cell_type": "code",
   "execution_count": null,
   "metadata": {},
   "outputs": [],
   "source": [
    "model.current_flow_date"
   ]
  },
  {
   "cell_type": "code",
   "execution_count": null,
   "metadata": {},
   "outputs": [],
   "source": [
    "model._agents_by_type[PersonAgent][0].tract_id"
   ]
  },
  {
   "cell_type": "code",
   "execution_count": null,
   "metadata": {},
   "outputs": [],
   "source": [
    "model.agents[1].prob_stay_at_home"
   ]
  },
  {
   "cell_type": "code",
   "execution_count": null,
   "metadata": {},
   "outputs": [],
   "source": [
    "np.random.rand()"
   ]
  },
  {
   "cell_type": "code",
   "execution_count": null,
   "metadata": {},
   "outputs": [],
   "source": []
  },
  {
   "cell_type": "code",
   "execution_count": null,
   "metadata": {},
   "outputs": [],
   "source": [
    "tract_id = 1\n",
    "tract = model.agents[tract_id]\n",
    "tract.prob_flow"
   ]
  },
  {
   "cell_type": "code",
   "execution_count": null,
   "metadata": {},
   "outputs": [],
   "source": [
    "model.random.choices(list(tract.prob_flow.keys()), weights=list(tract.prob_flow.values()))[0]"
   ]
  },
  {
   "cell_type": "code",
   "execution_count": null,
   "metadata": {},
   "outputs": [],
   "source": [
    "InfecStatus._member_names_"
   ]
  },
  {
   "cell_type": "code",
   "execution_count": null,
   "metadata": {},
   "outputs": [],
   "source": [
    "model.agents[1].geometry"
   ]
  },
  {
   "cell_type": "code",
   "execution_count": null,
   "metadata": {},
   "outputs": [],
   "source": [
    "gpd.GeoSeries(model.agents[1].geometry).sample_points(size=(1, 2)).iat[0]"
   ]
  },
  {
   "cell_type": "code",
   "execution_count": null,
   "metadata": {},
   "outputs": [],
   "source": []
  },
  {
   "cell_type": "code",
   "execution_count": null,
   "metadata": {},
   "outputs": [],
   "source": []
  },
  {
   "cell_type": "code",
   "execution_count": null,
   "metadata": {},
   "outputs": [],
   "source": [
    "model._agents"
   ]
  }
 ],
 "metadata": {
  "kernelspec": {
   "display_name": "ds-geo",
   "language": "python",
   "name": "python3"
  },
  "language_info": {
   "codemirror_mode": {
    "name": "ipython",
    "version": 3
   },
   "file_extension": ".py",
   "mimetype": "text/x-python",
   "name": "python",
   "nbconvert_exporter": "python",
   "pygments_lexer": "ipython3",
   "version": "3.12.7"
  }
 },
 "nbformat": 4,
 "nbformat_minor": 2
}
