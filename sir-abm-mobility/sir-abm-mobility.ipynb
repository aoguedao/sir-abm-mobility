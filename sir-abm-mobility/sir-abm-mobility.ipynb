{
 "cells": [
  {
   "cell_type": "code",
   "execution_count": 1,
   "metadata": {},
   "outputs": [],
   "source": [
    "import numpy as np\n",
    "import matplotlib.pyplot as plt\n",
    "import pandas as pd\n",
    "import geopandas as gpd\n",
    "\n",
    "import mesa\n",
    "import mesa_geo as mg\n",
    "import mesa_geo.visualization as mgv\n",
    "\n",
    "from pathlib import Path\n",
    "\n",
    "from model import GeoSIR\n",
    "from utils import InfecStatus\n",
    "\n",
    "# from model import GeoSIR\n",
    "# from agents import PersonAgent, TractAgent\n",
    "# from utils import TimeBlock, Decision, InfecStatus\n",
    "\n",
    "# %load_ext autoreload\n",
    "# %autoreload 2"
   ]
  },
  {
   "cell_type": "code",
   "execution_count": 2,
   "metadata": {},
   "outputs": [],
   "source": [
    "data_path = Path().resolve() / 'data'\n",
    "images_path = Path().resolve() / 'images'\n",
    "images_path.mkdir(exist_ok=True)\n",
    "flow_path = data_path / 'flow'"
   ]
  },
  {
   "cell_type": "code",
   "execution_count": 3,
   "metadata": {},
   "outputs": [],
   "source": [
    "tracts_df = gpd.read_file(data_path / 'tracts.shp').to_crs(epsg=3857)\n",
    "agents_tract_df = pd.read_csv(data_path / 'agents_tract.csv')\n",
    "prob_stay_at_home_data = (\n",
    "  pd.read_csv(\n",
    "    data_path / 'agents_home.csv',\n",
    "    parse_dates=['date'],\n",
    "    date_format='%Y-%m-%d'\n",
    "  )\n",
    "  .assign(date=lambda x: x['date'].dt.date)\n",
    "  .set_index(['date', 'tract'])\n",
    "  .squeeze()\n",
    ")\n",
    "percentage_time_at_home_data = (\n",
    "  pd.read_csv(\n",
    "    data_path / 'agents_percentage_home.csv',\n",
    "    parse_dates=['date'],\n",
    "    date_format='%Y-%m-%d'\n",
    "  )\n",
    "  .assign(\n",
    "    date=lambda x: x['date'].dt.date,\n",
    "    percentage_time_home=lambda x: x['percentage_time_home'] / 100\n",
    "  )\n",
    "  .set_index(['date', 'tract'])\n",
    "  .squeeze()\n",
    ")"
   ]
  },
  {
   "cell_type": "code",
   "execution_count": 4,
   "metadata": {},
   "outputs": [
    {
     "ename": "TypeError",
     "evalue": "GeoSIR.__init__() got an unexpected keyword argument 'infection_params'",
     "output_type": "error",
     "traceback": [
      "\u001b[0;31m---------------------------------------------------------------------------\u001b[0m",
      "\u001b[0;31mTypeError\u001b[0m                                 Traceback (most recent call last)",
      "Cell \u001b[0;32mIn[4], line 13\u001b[0m\n\u001b[1;32m     11\u001b[0m exposure_distance \u001b[38;5;241m=\u001b[39m \u001b[38;5;241m100\u001b[39m\n\u001b[1;32m     12\u001b[0m avg_trips \u001b[38;5;241m=\u001b[39m \u001b[38;5;241m2.6\u001b[39m\n\u001b[0;32m---> 13\u001b[0m model \u001b[38;5;241m=\u001b[39m \u001b[43mGeoSIR\u001b[49m\u001b[43m(\u001b[49m\n\u001b[1;32m     14\u001b[0m \u001b[43m  \u001b[49m\u001b[43minfection_params\u001b[49m\u001b[38;5;241;43m=\u001b[39;49m\u001b[43minfection_params\u001b[49m\u001b[43m,\u001b[49m\n\u001b[1;32m     15\u001b[0m \u001b[43m  \u001b[49m\u001b[43minitial_condition\u001b[49m\u001b[38;5;241;43m=\u001b[39;49m\u001b[43minitial_condition\u001b[49m\u001b[43m,\u001b[49m\n\u001b[1;32m     16\u001b[0m \u001b[43m  \u001b[49m\u001b[43mexposure_distance\u001b[49m\u001b[38;5;241;43m=\u001b[39;49m\u001b[43mexposure_distance\u001b[49m\u001b[43m,\u001b[49m\n\u001b[1;32m     17\u001b[0m \u001b[43m  \u001b[49m\u001b[43mavg_trips\u001b[49m\u001b[38;5;241;43m=\u001b[39;49m\u001b[43mavg_trips\u001b[49m\u001b[43m,\u001b[49m\n\u001b[1;32m     18\u001b[0m \u001b[43m  \u001b[49m\u001b[43mtracts_df\u001b[49m\u001b[38;5;241;43m=\u001b[39;49m\u001b[43mtracts_df\u001b[49m\u001b[43m,\u001b[49m\n\u001b[1;32m     19\u001b[0m \u001b[43m  \u001b[49m\u001b[43magents_tract_df\u001b[49m\u001b[38;5;241;43m=\u001b[39;49m\u001b[43magents_tract_df\u001b[49m\u001b[43m,\u001b[49m\n\u001b[1;32m     20\u001b[0m \u001b[43m  \u001b[49m\u001b[43mprob_stay_at_home_data\u001b[49m\u001b[38;5;241;43m=\u001b[39;49m\u001b[43mprob_stay_at_home_data\u001b[49m\u001b[43m,\u001b[49m\n\u001b[1;32m     21\u001b[0m \u001b[43m  \u001b[49m\u001b[43mpercentage_time_at_home_data\u001b[49m\u001b[38;5;241;43m=\u001b[39;49m\u001b[43mpercentage_time_at_home_data\u001b[49m\u001b[43m,\u001b[49m\n\u001b[1;32m     22\u001b[0m \u001b[43m  \u001b[49m\u001b[43mflow_path\u001b[49m\u001b[38;5;241;43m=\u001b[39;49m\u001b[43mflow_path\u001b[49m\u001b[43m,\u001b[49m\n\u001b[1;32m     23\u001b[0m \u001b[43m  \u001b[49m\u001b[43mseed\u001b[49m\u001b[38;5;241;43m=\u001b[39;49m\u001b[38;5;241;43m42\u001b[39;49m\n\u001b[1;32m     24\u001b[0m \u001b[43m)\u001b[49m\n",
      "\u001b[0;31mTypeError\u001b[0m: GeoSIR.__init__() got an unexpected keyword argument 'infection_params'"
     ]
    }
   ],
   "source": [
    "# Model\n",
    "infection_params = {\n",
    "  'beta': 0.5,\n",
    "  'gamma': 1 / 7\n",
    "}\n",
    "initial_condition = {\n",
    "  InfecStatus.S: 0.99,\n",
    "  InfecStatus.I: 0.01,\n",
    "  InfecStatus.R: 0.00\n",
    "}\n",
    "exposure_distance = 100\n",
    "avg_trips = 2.6\n",
    "model = GeoSIR(\n",
    "  infection_params=infection_params,\n",
    "  initial_condition=initial_condition,\n",
    "  exposure_distance=exposure_distance,\n",
    "  avg_trips=avg_trips,\n",
    "  tracts_df=tracts_df,\n",
    "  agents_tract_df=agents_tract_df,\n",
    "  prob_stay_at_home_data=prob_stay_at_home_data,\n",
    "  percentage_time_at_home_data=percentage_time_at_home_data,\n",
    "  flow_path=flow_path,\n",
    "  seed=42\n",
    ")"
   ]
  },
  {
   "cell_type": "code",
   "execution_count": 13,
   "metadata": {},
   "outputs": [
    {
     "data": {
      "text/plain": [
       "[{'infection_params': {'beta': 0.5, 'gamma': 0.14285714285714285},\n",
       "  'exposure_distance': 1,\n",
       "  'avg_trips': 2.6,\n",
       "  'tracts_df':            tract                                           geometry\n",
       "  0    53033025701  POLYGON ((-13603957.518 6019078.619, -13603956...\n",
       "  1    53033025702  POLYGON ((-13601668.12 6018543.439, -13601661....\n",
       "  2    53033025804  POLYGON ((-13601677.799 6016990.754, -13601674...\n",
       "  3    53033026001  POLYGON ((-13608766.87 6023964.184, -13608752....\n",
       "  4    53033026100  POLYGON ((-13611098.788 6023344.991, -13611067...\n",
       "  ..           ...                                                ...\n",
       "  388  53033002400  POLYGON ((-13613930.964 6055474.802, -13613821...\n",
       "  389  53033002600  POLYGON ((-13616331.234 6055196.31, -13616184....\n",
       "  390  53033002900  POLYGON ((-13621725.217 6054076.493, -13621718...\n",
       "  391  53033009400  POLYGON ((-13616301.243 6039633.309, -13616260...\n",
       "  392  53033009500  POLYGON ((-13614703.916 6038406.265, -13614673...\n",
       "  \n",
       "  [393 rows x 2 columns]}]"
      ]
     },
     "execution_count": 13,
     "metadata": {},
     "output_type": "execute_result"
    }
   ],
   "source": [
    "from mesa.batchrunner import _make_model_kwargs\n",
    "parameters = {\n",
    "  \"infection_params\": [infection_params],\n",
    "  # \"initial_condition\": initial_condition,\n",
    "  \"exposure_distance\": range(1, 2),\n",
    "  \"avg_trips\": avg_trips,\n",
    "  \"tracts_df\": [tracts_df],\n",
    "  # \"agents_tract_df\": agents_tract_df,\n",
    "  # \"prob_stay_at_home_data\": prob_stay_at_home_data,\n",
    "  # \"percentage_time_at_home_data\": percentage_time_at_home_data,\n",
    "  # \"flow_path\": flow_path,\n",
    "}\n",
    "kwargs_list = _make_model_kwargs(parameters)\n",
    "kwargs_list"
   ]
  },
  {
   "cell_type": "code",
   "execution_count": 8,
   "metadata": {},
   "outputs": [
    {
     "data": {
      "text/plain": [
       "[{'infection_params': 'beta', 'exposure_distance': 1, 'avg_trips': 2.6},\n",
       " {'infection_params': 'gamma', 'exposure_distance': 1, 'avg_trips': 2.6}]"
      ]
     },
     "execution_count": 8,
     "metadata": {},
     "output_type": "execute_result"
    }
   ],
   "source": [
    "kwargs_list"
   ]
  },
  {
   "cell_type": "code",
   "execution_count": null,
   "metadata": {},
   "outputs": [],
   "source": [
    "for _ in range(30):\n",
    "  model.step()"
   ]
  },
  {
   "cell_type": "code",
   "execution_count": null,
   "metadata": {},
   "outputs": [],
   "source": [
    "model.datacollector.get_model_vars_dataframe()"
   ]
  },
  {
   "cell_type": "code",
   "execution_count": null,
   "metadata": {},
   "outputs": [],
   "source": [
    "parameters = {\n",
    "  \"infection_params\": infection_params,\n",
    "  \"initial_condition\": initial_condition,\n",
    "  \"exposure_distance\": range(1, 4),\n",
    "  \"avg_trips\": avg_trips,\n",
    "  \"tracts_df\": tracts_df,\n",
    "  \"agents_tract_df\": agents_tract_df,\n",
    "  \"prob_stay_at_home_data\": prob_stay_at_home_data,\n",
    "  \"percentage_time_at_home_data\": percentage_time_at_home_data,\n",
    "  \"flow_path\": flow_path,\n",
    "}\n",
    "\n",
    "results = mesa.batch_run(\n",
    "    GeoSIR,\n",
    "    parameters,\n",
    "    iterations=5,\n",
    "    max_steps=100,\n",
    "    data_collection_period=1,\n",
    "    number_processes=3\n",
    ")"
   ]
  },
  {
   "cell_type": "code",
   "execution_count": null,
   "metadata": {},
   "outputs": [],
   "source": []
  },
  {
   "cell_type": "code",
   "execution_count": null,
   "metadata": {},
   "outputs": [],
   "source": [
    "infection_params=infection_params,\n",
    "initial_condition=initial_condition,\n",
    "exposure_distance=exposure_distance,\n",
    "avg_trips=avg_trips,\n",
    "tracts_df=tracts_df,\n",
    "agents_tract_df=agents_tract_df,\n",
    "prob_stay_at_home_data=prob_stay_at_home_data,\n",
    "percentage_time_at_home_data=percentage_time_at_home_data,\n",
    "flow_path=flow_path,\n",
    "seed=42"
   ]
  },
  {
   "cell_type": "code",
   "execution_count": null,
   "metadata": {},
   "outputs": [],
   "source": []
  },
  {
   "cell_type": "code",
   "execution_count": null,
   "metadata": {},
   "outputs": [],
   "source": []
  },
  {
   "cell_type": "code",
   "execution_count": null,
   "metadata": {},
   "outputs": [],
   "source": []
  },
  {
   "cell_type": "code",
   "execution_count": null,
   "metadata": {},
   "outputs": [],
   "source": [
    "model._agents_by_type[PersonAgent]"
   ]
  },
  {
   "cell_type": "code",
   "execution_count": null,
   "metadata": {},
   "outputs": [],
   "source": [
    "dir(model)"
   ]
  },
  {
   "cell_type": "code",
   "execution_count": null,
   "metadata": {},
   "outputs": [],
   "source": [
    "Decision['STAY_HOME']"
   ]
  },
  {
   "cell_type": "code",
   "execution_count": null,
   "metadata": {},
   "outputs": [],
   "source": [
    "model._agents_by_type[PersonAgent][0].decision"
   ]
  },
  {
   "cell_type": "code",
   "execution_count": null,
   "metadata": {},
   "outputs": [],
   "source": [
    "model.agent_types"
   ]
  },
  {
   "cell_type": "code",
   "execution_count": null,
   "metadata": {},
   "outputs": [],
   "source": [
    "model.datacollector.get_model_vars_dataframe()\n"
   ]
  },
  {
   "cell_type": "code",
   "execution_count": null,
   "metadata": {},
   "outputs": [],
   "source": [
    "model.counts"
   ]
  },
  {
   "cell_type": "code",
   "execution_count": null,
   "metadata": {},
   "outputs": [],
   "source": [
    "for klass, l in model._agents_by_type.items():\n",
    "  print(klass, len(l))"
   ]
  },
  {
   "cell_type": "code",
   "execution_count": null,
   "metadata": {},
   "outputs": [],
   "source": [
    "model._agents_by_type[PersonAgent]#.groupby('status').count()"
   ]
  },
  {
   "cell_type": "code",
   "execution_count": null,
   "metadata": {},
   "outputs": [],
   "source": [
    "model.flow_dates[-1:0]"
   ]
  },
  {
   "cell_type": "code",
   "execution_count": null,
   "metadata": {},
   "outputs": [],
   "source": [
    "model.time_block"
   ]
  },
  {
   "cell_type": "code",
   "execution_count": null,
   "metadata": {},
   "outputs": [],
   "source": [
    "model.time_block is TimeBlock.EVENING"
   ]
  },
  {
   "cell_type": "code",
   "execution_count": null,
   "metadata": {},
   "outputs": [],
   "source": [
    "type(model._agents_by_type[PersonAgent][0].geometry)"
   ]
  },
  {
   "cell_type": "code",
   "execution_count": null,
   "metadata": {},
   "outputs": [],
   "source": [
    "model._agents_by_type[PersonAgent][0].pos"
   ]
  },
  {
   "cell_type": "code",
   "execution_count": null,
   "metadata": {},
   "outputs": [],
   "source": [
    "model._agents_by_type[TractAgent][0].prob_stay_at_home"
   ]
  },
  {
   "cell_type": "code",
   "execution_count": null,
   "metadata": {},
   "outputs": [],
   "source": [
    "model.today"
   ]
  },
  {
   "cell_type": "markdown",
   "metadata": {},
   "source": []
  },
  {
   "cell_type": "code",
   "execution_count": null,
   "metadata": {},
   "outputs": [],
   "source": [
    "# (\n",
    "#   model.tracts_df.merge(\n",
    "#     model.agents_tract_df,\n",
    "#     how='left',\n",
    "#     on='tract',\n",
    "#     validate='1:1'\n",
    "#   )\n",
    "#   .rename(columns={'tract': 'code', 'n_agents': 'population'})\n",
    "# )"
   ]
  },
  {
   "cell_type": "code",
   "execution_count": null,
   "metadata": {},
   "outputs": [],
   "source": [
    "set(InfecStatus)"
   ]
  },
  {
   "cell_type": "code",
   "execution_count": null,
   "metadata": {},
   "outputs": [],
   "source": [
    "InfecStatus.S in InfecStatus"
   ]
  },
  {
   "cell_type": "code",
   "execution_count": null,
   "metadata": {},
   "outputs": [],
   "source": [
    "InfecStatus"
   ]
  },
  {
   "cell_type": "code",
   "execution_count": null,
   "metadata": {},
   "outputs": [],
   "source": [
    "InfecStatus.S in set(InfecStatus)"
   ]
  },
  {
   "cell_type": "code",
   "execution_count": null,
   "metadata": {},
   "outputs": [],
   "source": [
    "type(InfecStatus)"
   ]
  },
  {
   "cell_type": "code",
   "execution_count": null,
   "metadata": {},
   "outputs": [],
   "source": [
    "members = list(TimeBlock)"
   ]
  },
  {
   "cell_type": "code",
   "execution_count": null,
   "metadata": {},
   "outputs": [],
   "source": [
    "members.index(TimeBlock.MORNING)"
   ]
  },
  {
   "cell_type": "code",
   "execution_count": null,
   "metadata": {},
   "outputs": [],
   "source": [
    "counts = {\n",
    "      \"S\": 0,\n",
    "      \"I\": 0,\n",
    "      \"R\": 0,\n",
    "    }"
   ]
  },
  {
   "cell_type": "code",
   "execution_count": null,
   "metadata": {},
   "outputs": [],
   "source": [
    "InfecStatus.S in counts.keys()"
   ]
  },
  {
   "cell_type": "code",
   "execution_count": null,
   "metadata": {},
   "outputs": [],
   "source": [
    "counts = {status: 0 for status in InfecStatus}\n",
    "counts"
   ]
  },
  {
   "cell_type": "code",
   "execution_count": null,
   "metadata": {},
   "outputs": [],
   "source": [
    "counts.keys()"
   ]
  },
  {
   "cell_type": "code",
   "execution_count": null,
   "metadata": {},
   "outputs": [],
   "source": [
    "list(InfecStatus)"
   ]
  },
  {
   "cell_type": "code",
   "execution_count": null,
   "metadata": {},
   "outputs": [],
   "source": [
    "InfecStatus.__members__.values()"
   ]
  },
  {
   "cell_type": "code",
   "execution_count": null,
   "metadata": {},
   "outputs": [],
   "source": [
    "counts[InfecStatus.S]"
   ]
  },
  {
   "cell_type": "code",
   "execution_count": null,
   "metadata": {},
   "outputs": [],
   "source": [
    "print(InfecStatus.S in counts)"
   ]
  },
  {
   "cell_type": "code",
   "execution_count": null,
   "metadata": {},
   "outputs": [],
   "source": [
    "from enum import Flag, auto\n",
    "\n",
    "class InfecStatus(Flag):\n",
    "    S = auto()\n",
    "    I = auto()\n",
    "    R = auto()\n",
    "\n",
    "counts = {status: 0 for status in InfecStatus}\n",
    "print(counts[InfecStatus.S])  # Should work"
   ]
  },
  {
   "cell_type": "code",
   "execution_count": null,
   "metadata": {},
   "outputs": [],
   "source": [
    "model.prob_stay_at_home_data"
   ]
  },
  {
   "cell_type": "code",
   "execution_count": null,
   "metadata": {},
   "outputs": [],
   "source": [
    "model.today"
   ]
  },
  {
   "cell_type": "code",
   "execution_count": null,
   "metadata": {},
   "outputs": [],
   "source": [
    "model.prob_stay_at_home_data.index.dtype"
   ]
  },
  {
   "cell_type": "code",
   "execution_count": null,
   "metadata": {},
   "outputs": [],
   "source": [
    "my_date = percentage_time_at_home_data.index.get_level_values(0)[0]"
   ]
  },
  {
   "cell_type": "code",
   "execution_count": null,
   "metadata": {},
   "outputs": [],
   "source": [
    "model.prob_stay_at_home_data.loc[model.current_flow_date, 53033032326]"
   ]
  },
  {
   "cell_type": "code",
   "execution_count": null,
   "metadata": {},
   "outputs": [],
   "source": [
    "model.current_flow_date"
   ]
  },
  {
   "cell_type": "code",
   "execution_count": null,
   "metadata": {},
   "outputs": [],
   "source": [
    "model._agents_by_type[PersonAgent][0].tract_id"
   ]
  },
  {
   "cell_type": "code",
   "execution_count": null,
   "metadata": {},
   "outputs": [],
   "source": [
    "model.agents[1].prob_stay_at_home"
   ]
  },
  {
   "cell_type": "code",
   "execution_count": null,
   "metadata": {},
   "outputs": [],
   "source": [
    "np.random.rand()"
   ]
  },
  {
   "cell_type": "code",
   "execution_count": null,
   "metadata": {},
   "outputs": [],
   "source": []
  },
  {
   "cell_type": "code",
   "execution_count": null,
   "metadata": {},
   "outputs": [],
   "source": [
    "tract_id = 1\n",
    "tract = model.agents[tract_id]\n",
    "tract.prob_flow"
   ]
  },
  {
   "cell_type": "code",
   "execution_count": null,
   "metadata": {},
   "outputs": [],
   "source": [
    "model.random.choices(list(tract.prob_flow.keys()), weights=list(tract.prob_flow.values()))[0]"
   ]
  },
  {
   "cell_type": "code",
   "execution_count": null,
   "metadata": {},
   "outputs": [],
   "source": [
    "InfecStatus._member_names_"
   ]
  },
  {
   "cell_type": "code",
   "execution_count": null,
   "metadata": {},
   "outputs": [],
   "source": [
    "model.agents[1].geometry"
   ]
  },
  {
   "cell_type": "code",
   "execution_count": null,
   "metadata": {},
   "outputs": [],
   "source": [
    "gpd.GeoSeries(model.agents[1].geometry).sample_points(size=(1, 2)).iat[0]"
   ]
  },
  {
   "cell_type": "code",
   "execution_count": null,
   "metadata": {},
   "outputs": [],
   "source": []
  },
  {
   "cell_type": "code",
   "execution_count": null,
   "metadata": {},
   "outputs": [],
   "source": []
  },
  {
   "cell_type": "code",
   "execution_count": null,
   "metadata": {},
   "outputs": [],
   "source": []
  },
  {
   "cell_type": "code",
   "execution_count": null,
   "metadata": {},
   "outputs": [],
   "source": []
  },
  {
   "cell_type": "code",
   "execution_count": null,
   "metadata": {},
   "outputs": [],
   "source": []
  }
 ],
 "metadata": {
  "kernelspec": {
   "display_name": "ds-geo",
   "language": "python",
   "name": "python3"
  },
  "language_info": {
   "codemirror_mode": {
    "name": "ipython",
    "version": 3
   },
   "file_extension": ".py",
   "mimetype": "text/x-python",
   "name": "python",
   "nbconvert_exporter": "python",
   "pygments_lexer": "ipython3",
   "version": "3.12.7"
  }
 },
 "nbformat": 4,
 "nbformat_minor": 2
}
